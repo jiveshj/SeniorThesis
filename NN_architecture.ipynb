{
 "cells": [
  {
   "cell_type": "code",
   "execution_count": 1,
   "metadata": {},
   "outputs": [],
   "source": [
    "import numpy as np\n",
    "\n",
    "from sklearn.model_selection import KFold\n",
    "import keras\n",
    "import tensorflow as tf\n",
    "import scipy.io as sci\n",
    "import pandas as pd\n",
    "import numpy as np\n",
    "from sklearn.linear_model import LinearRegression\n",
    "from tensorflow.keras.optimizers import Adam,SGD, RMSprop, Adadelta, Adagrad, Adamax, Nadam, Ftrl\n",
    "from keras.layers import Dense, BatchNormalization, Dropout\n",
    "from keras.callbacks import EarlyStopping, ModelCheckpoint\n",
    "from sklearn.model_selection import StratifiedKFold\n",
    "from sklearn.model_selection import cross_val_score\n",
    "from sklearn.metrics import make_scorer, accuracy_score\n",
    "from keras.layers import LeakyReLU\n",
    "LeakyReLU = LeakyReLU(alpha=0.1)\n",
    "import matplotlib.pyplot as plt\n",
    "from tensorflow.keras.wrappers.scikit_learn import KerasClassifier\n",
    "from sklearn.model_selection import GridSearchCV\n",
    "from tensorflow.keras.layers import Dense,BatchNormalization\n",
    "from tensorflow.keras.activations import relu,sigmoid,softplus,softsign, tanh, selu,elu, exponential\n",
    "from keras.callbacks import LearningRateScheduler\n",
    "from keras.callbacks import History\n",
    "from sklearn.preprocessing import StandardScaler\n",
    "\n",
    "import warnings\n",
    "warnings.filterwarnings('ignore')\n",
    "pd.set_option(\"display.max_columns\", None)\n",
    "from LLL_functions import calc_LLL_basis"
   ]
  },
  {
   "cell_type": "code",
   "execution_count": 2,
   "metadata": {},
   "outputs": [],
   "source": [
    "basis = [[-2,7,7,-5],[3,-2,6,-1],[2,-8,-9,-7],[8,-9,6,-4]]\n",
    "basis = np.array(basis)\n",
    "basis = basis.astype(np.float64) \n",
    "\n",
    "LLL_basis,LLL_iterations,num = calc_LLL_basis(basis,1)"
   ]
  },
  {
   "cell_type": "code",
   "execution_count": 3,
   "metadata": {},
   "outputs": [
    {
     "name": "stdout",
     "output_type": "stream",
     "text": [
      "(133090, 4, 4)\n"
     ]
    }
   ],
   "source": [
    "##training data code generation\n",
    "\n",
    "LLL_total_matrices = np.zeros((0,4,4))\n",
    "numb_list = []\n",
    "for i in range(9500):\n",
    "    basis = np.random.randint(45,100,size = (4,4))\n",
    "    LLL_basis,LLL_iterations,numb = calc_LLL_basis(basis,1)\n",
    "    numb_list.append(numb)\n",
    "    LLL_total_matrices = np.append(LLL_total_matrices,LLL_iterations,axis = 0)\n",
    "\n",
    "print(LLL_total_matrices.shape)\n"
   ]
  },
  {
   "cell_type": "code",
   "execution_count": 4,
   "metadata": {},
   "outputs": [],
   "source": [
    "def orthogonality_loss(basis):\n",
    "    num = basis.shape[0]\n",
    "    add = 0\n",
    "    for i in range(num):\n",
    "        add += np.log(np.abs(basis[i]))\n",
    "    loss = add - np.log(np.abs(np.linalg.det(basis)))\n",
    "    return loss"
   ]
  }
 ],
 "metadata": {
  "kernelspec": {
   "display_name": "base",
   "language": "python",
   "name": "python3"
  },
  "language_info": {
   "codemirror_mode": {
    "name": "ipython",
    "version": 3
   },
   "file_extension": ".py",
   "mimetype": "text/x-python",
   "name": "python",
   "nbconvert_exporter": "python",
   "pygments_lexer": "ipython3",
   "version": "3.10.0"
  }
 },
 "nbformat": 4,
 "nbformat_minor": 2
}
