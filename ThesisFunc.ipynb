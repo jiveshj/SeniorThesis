{
  "nbformat": 4,
  "nbformat_minor": 0,
  "metadata": {
    "colab": {
      "provenance": [],
      "gpuType": "T4",
      "authorship_tag": "ABX9TyP/MaWxDZbSwI5ZoX5KcQ3x",
      "include_colab_link": true
    },
    "kernelspec": {
      "name": "python3",
      "display_name": "Python 3"
    },
    "language_info": {
      "name": "python"
    },
    "accelerator": "GPU"
  },
  "cells": [
    {
      "cell_type": "markdown",
      "metadata": {
        "id": "view-in-github",
        "colab_type": "text"
      },
      "source": [
        "<a href=\"https://colab.research.google.com/github/jiveshj/SeniorThesis/blob/main/ThesisFunc.ipynb\" target=\"_parent\"><img src=\"https://colab.research.google.com/assets/colab-badge.svg\" alt=\"Open In Colab\"/></a>"
      ]
    },
    {
      "cell_type": "code",
      "execution_count": null,
      "metadata": {
        "colab": {
          "base_uri": "https://localhost:8080/"
        },
        "id": "uMb6NWdWklWf",
        "outputId": "dddcc880-90ba-4f60-b06d-b166579b4873"
      },
      "outputs": [
        {
          "output_type": "stream",
          "name": "stdout",
          "text": [
            "1.26.4\n"
          ]
        }
      ],
      "source": [
        "import numpy\n",
        "print(numpy.__version__)\n",
        "from concurrent.futures import ProcessPoolExecutor"
      ]
    },
    {
      "cell_type": "code",
      "source": [
        "import pandas as pd\n",
        "import numpy as np\n",
        "import matplotlib.pyplot as plt\n",
        "from collections import Counter"
      ],
      "metadata": {
        "id": "d7gd3i3okpy3"
      },
      "execution_count": null,
      "outputs": []
    },
    {
      "cell_type": "code",
      "source": [
        "import torch\n",
        "num_gpus = torch.cuda.is_available()\n",
        "print(\"Number of GPUs available:\", num_gpus)"
      ],
      "metadata": {
        "colab": {
          "base_uri": "https://localhost:8080/"
        },
        "id": "OHYxjyLbks0s",
        "outputId": "d638610e-dee2-47b8-d4e1-08c4f2dacd87"
      },
      "execution_count": null,
      "outputs": [
        {
          "output_type": "stream",
          "name": "stdout",
          "text": [
            "Number of GPUs available: True\n"
          ]
        }
      ]
    },
    {
      "cell_type": "code",
      "source": [
        "def clear_cache():\n",
        "    torch.cuda.empty_cache()  # Frees unused memory from GPU cache\n"
      ],
      "metadata": {
        "id": "e9b-_C4fIWL3"
      },
      "execution_count": null,
      "outputs": []
    },
    {
      "cell_type": "code",
      "source": [
        "import torch\n",
        "from transformers import AutoModelForCausalLM, AutoTokenizer\n",
        "\n",
        "\n",
        "\n",
        "\n",
        "class LMHeadModel:\n",
        "    def __init__(self, model_name, device=\"cuda\" if torch.cuda.is_available() else \"cpu\"):\n",
        "        # Initialize the model and tokenizer\n",
        "        self.device = device\n",
        "        self.model = AutoModelForCausalLM.from_pretrained(model_name, torch_dtype=torch.float32).to(self.device)\n",
        "        self.tokenizer = AutoTokenizer.from_pretrained(model_name)\n",
        "        self.model.eval()\n",
        "\n",
        "        # Ensure the tokenizer has a padding token\n",
        "        if self.tokenizer.pad_token is None:\n",
        "            self.tokenizer.pad_token = self.tokenizer.eos_token  # Use EOS token as padding\n",
        "            self.tokenizer.padding_side = \"right\"\n",
        "\n",
        "        self.batch_prediction_count = 0\n",
        "\n",
        "\n",
        "    def batch_encode(self, sentences):\n",
        "        \"\"\"\n",
        "        Encodes a batch of sentences into input tensors.\n",
        "        Args:\n",
        "            sentences (list of str): The input sentences to encode.\n",
        "        Returns:\n",
        "            inputs (dict): A dictionary of tokenized inputs ready for the model.\n",
        "        \"\"\"\n",
        "        return self.tokenizer(\n",
        "            sentences,\n",
        "            return_tensors=\"pt\",\n",
        "            padding=True,  # Pad to the longest sequence in the batch\n",
        "            truncation=True,  # Truncate sequences longer than the model's max length\n",
        "        ).to(self.device)\n",
        "\n",
        "    def batch_decode(self, token_ids):\n",
        "        \"\"\"\n",
        "        Decodes a batch of token IDs back to sentences.\n",
        "        Args:\n",
        "            token_ids (torch.Tensor): A tensor of token IDs to decode.\n",
        "        Returns:\n",
        "            decoded_sentences (list of str): The decoded sentences.\n",
        "        \"\"\"\n",
        "        return self.tokenizer.batch_decode(token_ids, skip_special_tokens=True)\n",
        "    def batch_decode_top_k(self, token_ids_batch, tokenizer):\n",
        "        \"\"\"\n",
        "        Decodes token IDs to meaningful text while merging subword tokens.\n",
        "        Args:\n",
        "            token_ids_batch (torch.Tensor): A batch of token IDs (e.g., from `topk`).\n",
        "            tokenizer: The tokenizer used for encoding/decoding.\n",
        "        Returns:\n",
        "            list of list of str: Decoded tokens (words/subwords) for each sequence in the batch.\n",
        "        \"\"\"\n",
        "        decoded_tokens = []\n",
        "        for token_ids in token_ids_batch:\n",
        "            # Decode each token ID in the batch, joining subwords correctly\n",
        "            tokens = [tokenizer.decode([token_id]).strip() for token_id in token_ids]\n",
        "            decoded_tokens.append(tokens)\n",
        "        return decoded_tokens\n",
        "\n",
        "    def get_batch_predictions(self, sentences, top_k=100):\n",
        "        \"\"\"\n",
        "        Predicts the next tokens for a batch of input sentences.\n",
        "        Args:\n",
        "            sentences (list of str): The input sentences.\n",
        "            top_k (int): Number of top tokens to return for each sentence.\n",
        "        Returns:\n",
        "            predictions (list of list of tuples): Top-k token predictions for each sentence.\n",
        "        \"\"\"\n",
        "        #Increment to see how many times this function is called after a given layer of trellis.\n",
        "        self.batch_prediction_count += 1\n",
        "\n",
        "\n",
        "        # Tokenize inputs\n",
        "        inputs = self.batch_encode(sentences)\n",
        "\n",
        "        # Pass through the model\n",
        "        with torch.no_grad():\n",
        "            outputs = self.model(**inputs,use_cache = False)\n",
        "\n",
        "        # Get logits for the last token in each sequence\n",
        "        logits = outputs.logits[:, -1, :]  # Shape: (batch_size, vocab_size)\n",
        "\n",
        "\n",
        "        # Compute probabilities using softmax\n",
        "        probs = torch.nn.functional.softmax(logits, dim=-1)\n",
        "        top_probs, top_token_ids = torch.topk(probs, k=top_k, dim=-1)\n",
        "        top_tokens = self.batch_decode_top_k(top_token_ids, self.tokenizer)\n",
        "\n",
        "\n",
        "        predictions = [\n",
        "            [(token, prob.item()) for token, prob in zip(top_tokens[i], top_probs[i]) if token and token != \"\\n\"]\n",
        "            for i in range(len(sentences))\n",
        "        ]\n",
        "        return predictions\n",
        "\n",
        "    def get_batch_prediction_count(self):\n",
        "        \"\"\"\n",
        "        Returns the number of times batch predictions have been made.\n",
        "        \"\"\"\n",
        "        return self.batch_prediction_count\n",
        "\n",
        "    def reset_batch_prediction_count(self):\n",
        "        \"\"\" Resets the count\n",
        "        \"\"\"\n",
        "\n",
        "        self.batch_prediction_count = 0\n"
      ],
      "metadata": {
        "id": "kWe1Lzx_kvSs"
      },
      "execution_count": null,
      "outputs": []
    },
    {
      "cell_type": "code",
      "source": [
        "model = LMHeadModel(\"gpt2\")\n",
        "tokens = model.get_batch_predictions([\"I enjoy walking in the streets of London and seeing how many\"])\n",
        "print(tokens)"
      ],
      "metadata": {
        "colab": {
          "base_uri": "https://localhost:8080/"
        },
        "id": "MjttIZL3kwIZ",
        "outputId": "42906c43-7a9d-4ff6-f558-4ca487c816d1"
      },
      "execution_count": null,
      "outputs": [
        {
          "output_type": "stream",
          "name": "stdout",
          "text": [
            "[[('people', 0.43639272451400757), ('of', 0.04618111252784729), ('different', 0.024586744606494904), ('cars', 0.012367425486445427), ('women', 0.011498896405100822), ('things', 0.010798175819218159), ('young', 0.01030801609158516), ('other', 0.009153882041573524), ('children', 0.007985253818333149), ('kids', 0.007831282913684845), ('pedestrians', 0.007828296162188053), ('beautiful', 0.007812305819243193), ('shops', 0.007584897801280022), ('times', 0.007466564420610666), ('new', 0.0064317211508750916), ('businesses', 0.0064195143058896065), ('more', 0.0061494712717831135), ('homeless', 0.006147547625005245), ('men', 0.00555956969037652), ('little', 0.004401943180710077), ('streets', 0.004189481493085623), ('families', 0.0034754821099340916), ('places', 0.0034438082948327065), ('great', 0.002904405351728201), ('houses', 0.0026904840487986803), ('tourists', 0.0026231110095977783), ('buildings', 0.0024502745363861322), ('pubs', 0.0024248340632766485), ('police', 0.0023816009052097797), ('cyclists', 0.002317078411579132), ('lives', 0.002280494198203087), ('wonderful', 0.002249819692224264), ('others', 0.002225118689239025), ('London', 0.002166273072361946), ('stories', 0.0021593263372778893), ('girls', 0.002112752292305231), ('companies', 0.0020775862503796816), ('amazing', 0.0019786993507295847), ('good', 0.0018403586000204086), ('cafes', 0.0016122835222631693), ('street', 0.001553086913190782), ('cops', 0.0015413182554766536), ('cities', 0.0014956074301153421), ('bars', 0.0014695471618324518), ('homes', 0.0014659190783277154), ('the', 0.0014482769183814526), ('poor', 0.0014481444377452135), ('restaurants', 0.0014451092574745417), ('lovely', 0.0013629510067403316), ('dogs', 0.0013383441837504506), ('thousands', 0.0013356818817555904), (',', 0.0013325366890057921), ('jobs', 0.001317313639447093), ('are', 0.0012822900898754597), ('cats', 0.0012489976361393929), ('politicians', 0.001170070841908455), ('artists', 0.0011404313845559955), ('nice', 0.0011361152864992619), ('babies', 0.0011261221952736378), (\"'\", 0.0010745696490630507), ('black', 0.0010723747545853257), ('ways', 0.0010632991325110197), ('innocent', 0.0010527247795835137), ('small', 0.0010518096387386322), ('you', 0.0010483647929504514), ('guys', 0.0010413418058305979), ('bikes', 0.0010310881771147251), ('passers', 0.0010226116282865405), ('big', 0.0010092953452840447), ('bodies', 0.0010061892680823803), ('and', 0.000986931030638516), ('local', 0.0009342079283669591), ('British', 0.0009320223471149802), ('there', 0.00091997702838853), ('stores', 0.0009126157965511084), ('interesting', 0.0009059353033080697), ('New', 0.0008712228154763579), ('pictures', 0.000814768485724926), ('car', 0.000811536330729723), ('crazy', 0.000799722911324352), ('dead', 0.0007970915175974369), ('clubs', 0.0007970428559929132), ('schools', 0.0007918243063613772), ('rich', 0.0007855124422349036), ('tiny', 0.000781054375693202), ('customers', 0.0007680013659410179), ('criminals', 0.0007603231933899224), ('faces', 0.0007561465026810765), ('trees', 0.0007510524010285735), ('skysc', 0.0007087531266734004), ('problems', 0.0007025190279819071), ('folks', 0.0007017047610133886), ('red', 0.0006977543234825134), ('animals', 0.0006902411114424467), ('really', 0.000689383246935904), ('commuters', 0.0006838827393949032), ('famous', 0.0006732596084475517), ('books', 0.000672510068397969), ('I', 0.0006688770372420549), ('residents', 0.0006657053017988801)]]\n"
          ]
        }
      ]
    },
    {
      "cell_type": "code",
      "source": [
        "class SearchTree:\n",
        "    def __init__(self,context,probability,parent = None,child = None,parent_index = None):\n",
        "        self.context = context\n",
        "        self.probability = probability\n",
        "        self.parent = parent\n",
        "        self.child = []\n",
        "        self.parent_index = parent_index  # newly created.\n",
        "        if child is not None:\n",
        "           self.child.append(child)\n",
        "\n",
        "    def build_Context(self):\n",
        "        context_list = []\n",
        "        node = self\n",
        "        while node.parent is not None:\n",
        "            context_list.append(node.context)\n",
        "            node = node.parent\n",
        "        context_list.append(node.context)\n",
        "        context_list.reverse()\n",
        "        formatted_contextList = []\n",
        "        for i in range(len(context_list)):\n",
        "            if context_list[i] in ['.',':',',','?','!',';'] or (\"'\" in context_list[i]):\n",
        "                if (i-1>= 0):\n",
        "                    if context_list[i-1] not in  ['.',':',',','?','!',';'] and (\"'\" not in context_list[i-1]):#if two consecutive contexts are , ' etc.\n",
        "                        word = context_list[i-1]+context_list[i]\n",
        "\n",
        "                        formatted_contextList.remove(context_list[i-1])\n",
        "                        formatted_contextList.append(word)\n",
        "                    else:\n",
        "                        formatted_contextList.append(context_list[i])\n",
        "            else:\n",
        "\n",
        "                 formatted_contextList.append(context_list[i])\n",
        "        return ' '.join(formatted_contextList)\n",
        "\n",
        "    def create_child(self):\n",
        "        if self.parent is not None:\n",
        "           self.parent.child.append(self)\n",
        "\n",
        "    def replace_parent(self,new_parent):\n",
        "        self.parent = new_parent\n",
        "\n",
        "    def calcProbTillNow(self):\n",
        "      prob = self.probability\n",
        "      node = self\n",
        "      while node.parent is not None:\n",
        "        prob = prob*node.parent.probability\n",
        "        node = node.parent\n",
        "      return prob    #can make this negative log probability.\n",
        "\n",
        "    def assign_parent_index(self,parent_index):\n",
        "      self.parent_index = parent_index\n",
        "\n",
        "\n",
        "\n",
        "\n",
        "\n",
        "def most_frequent(List):\n",
        "       return max(set(List), key=List.count)\n",
        "def sort_with_indices(arr):\n",
        "  \"\"\"Sorts a list and returns the original indices of the sorted elements.\"\"\"\n",
        "  indices = list(range(len(arr)))\n",
        "  indices.sort(key=lambda i: arr[i], reverse = True)\n",
        "  return indices\n",
        "\n",
        "# Now, have the probability matrix ready in which one list contains the probability to reach that state from previous list of tokens\n",
        "#To make the probs ready find the unique tokens and then number them/store in a list and then find top 3 tokens given those tokens, find unique\n",
        "#tokens and then extract probs of getting those from the previous list. [state transition probmat] and then run viterbi!!\n",
        "\n",
        "# def findProbability2(InitialToken, FinalToken, model):\n",
        "#     context = InitialToken.build_Context()\n",
        "#     tokens_50K = model.get_batch_predictions([context], 300)  # Generate top-k predictions\n",
        "#     print(\"InitialToken.context:  \", InitialToken.build_Context())\n",
        "#     print(\"FinalToken: \", FinalToken.context)\n",
        "#     # Use a dictionary for faster lookups\n",
        "#     token_probs = {token: prob for token, prob in tokens_50K[0]}\n",
        "\n",
        "#     # Return the probability if the token exists, otherwise return 0\n",
        "#     prob = token_probs.get(FinalToken.context,0)\n",
        "#     print(\"prob: \", prob)\n",
        "#     return prob\n",
        "\n",
        "\n",
        "\n",
        "\n",
        "def findProbability(InitialToken,FinalToken,model):\n",
        "    context = InitialToken.build_Context()\n",
        "    tokens_50K = model.get_batch_predictions([context],500)  # can do this - I mean that I can set the topk to be equal to 50 and if it is not there then I will discard the probability as 0.\n",
        "\n",
        "    for token,prob in tokens_50K[0]:\n",
        "        if token == FinalToken.context:\n",
        "            return prob\n",
        "    return 0\n",
        "\n",
        "def findProbability_cached(InitialToken, FinalToken, model,cached_probs):\n",
        "    context = InitialToken.build_Context()\n",
        "\n",
        "    # Check if context has been previously processed\n",
        "    if context in cached_probs:\n",
        "        # Return cached result if available\n",
        "        return cached_probs[context].get(FinalToken.context, 0)\n",
        "\n",
        "    # Otherwise, calculate the probabilities\n",
        "    tokens_50K = model.get_batch_predictions([context], 500)\n",
        "\n",
        "    # Store probabilities for this context in the cache\n",
        "    context_probs = {token: prob for token, prob in tokens_50K[0]}\n",
        "    cached_probs[context] = context_probs\n",
        "\n",
        "    return context_probs.get(FinalToken.context, 0)\n",
        "\n",
        "\n",
        "\n",
        "\n",
        "def find_overlap_children(arr):\n",
        "    \"Find all the children of top two tokens and return their overlap\"\n",
        "    children1 = {child.context for child in arr[0].child}\n",
        "    children2 = {child.context for child in arr[1].child}\n",
        "    common = len(children1.intersection(children2))\n",
        "    return common / len(arr[0].child) if arr[0].child else 0\n",
        "\n",
        "\n",
        "\n",
        "def VITERBI_Lists(state_transition_probmat, initial_state_prob):\n",
        "\n",
        "    viterbi_mat = []\n",
        "    backpointer = []\n",
        "    viterbi_1stLayer = []\n",
        "    for i in range(len(initial_state_prob)):\n",
        "        viterbi_1stLayer.append(float(initial_state_prob[i]))\n",
        "    viterbi_mat.append(viterbi_1stLayer)\n",
        "\n",
        "    for time_step in range(len(state_transition_probmat)):\n",
        "        viterbi_layer = []\n",
        "        backpointer_layer = []\n",
        "        for state in range(len(state_transition_probmat[time_step])):\n",
        "            iteration_vec = [viterbi_mat[time_step][i]*state_transition_probmat[time_step][state][i] for i in range(len(viterbi_mat[time_step]))]\n",
        "\n",
        "            maxval = max(iteration_vec)\n",
        "            maxind = iteration_vec.index(maxval)\n",
        "            viterbi_layer.append(maxval)\n",
        "            backpointer_layer.append(maxind)\n",
        "\n",
        "        viterbi_mat.append(viterbi_layer)\n",
        "        backpointer.append(backpointer_layer)\n",
        "\n",
        "    best_path_prob = max(viterbi_mat[-1])\n",
        "    # max_index = max(range(len(viterbi_mat[-1])), key = lambda i: viterbi_mat[-1][i])\n",
        "    max_index = viterbi_mat[-1].index(best_path_prob)\n",
        "    best_backpointer = max_index\n",
        "    best_path = [best_backpointer]\n",
        "    j = 0\n",
        "    for i in reversed(range(len(state_transition_probmat))):\n",
        "        best_path.append(backpointer[i][best_path[j]])\n",
        "        j += 1\n",
        "    best_path = best_path[::-1]\n",
        "    return best_path, viterbi_mat,best_path_prob\n",
        "def decodePath(best_path,unique_tokens_list,root_string):\n",
        "    resultant_string = ''\n",
        "    for i in range(len(best_path)):\n",
        "      if unique_tokens_list[i][best_path[i]] in ['.',':',',','?','!',';']:\n",
        "            if (i-1>= 0):\n",
        "                resultant_string = resultant_string+unique_tokens_list[i][best_path[i]]\n",
        "      elif \"'\" in unique_tokens_list[i][best_path[i]]:\n",
        "              resultant_string = resultant_string + unique_tokens_list[i][best_path[i]]\n",
        "      else:\n",
        "            resultant_string = resultant_string + ' '+ unique_tokens_list[i][best_path[i]]\n",
        "    return root_string+resultant_string\n",
        "\n",
        "\n",
        "\n",
        "\n"
      ],
      "metadata": {
        "id": "FJBV5Avck15h"
      },
      "execution_count": null,
      "outputs": []
    },
    {
      "cell_type": "code",
      "source": [
        "def generateIntermediates(root,numTokens = 3, loop_runner = 4):\n",
        "  sentence = SearchTree(root,1)\n",
        "  context = []\n",
        "  prob_list = []\n",
        "  num_tokens = numTokens\n",
        "  content = []\n",
        "  probability = []\n",
        "  model = LMHeadModel(\"gpt2\")\n",
        "  tokens_50K = model.get_batch_predictions([sentence.context],numTokens+3)\n",
        "  children = []\n",
        "  overlap = []\n",
        "  most_common = []\n",
        "  #unique_elements = []   # to store unique elements at each iteration\n",
        "  unique_tokens = set()\n",
        "  probabilityMatrix = []\n",
        "  uniqueTokensList = []\n",
        "  new_content = []\n",
        "  uniqueTokenLength = []\n",
        "\n",
        "  flops_counter = {}\n",
        "  cached_probs = {}\n",
        "  batch_size = 75\n",
        "  holdout_number = 5\n",
        "  for i in range(num_tokens):\n",
        "    context = tokens_50K[0][i][0]\n",
        "    unique_tokens.add(context)\n",
        "    new_content.append(context)\n",
        "    prob = tokens_50K[0][i][1]\n",
        "    probability.append(prob)\n",
        "    context = SearchTree(context,prob,sentence,parent_index = 0)\n",
        "    context.create_child()\n",
        "    uniqueTokensList.append(context)\n",
        "    children.append(context)\n",
        "\n",
        "  content.append(new_content)\n",
        "  previousUniqueLength = num_tokens\n",
        "  #unique_elements.append(unique_tokens)\n",
        "  initialStateProbability = probability\n",
        "  uniqueTokenLength.append(num_tokens)\n",
        "  for i in range(2,loop_runner):\n",
        "    unique_tokens = set()\n",
        "    probability = []\n",
        "    new_content = []\n",
        "    total_predictions = []\n",
        "    previousSetLength = 0\n",
        "    batch_sentences = [child.build_Context() for child in uniqueTokensList]\n",
        "    if len(batch_sentences)>holdout_number:\n",
        "        batch_sentences2 = batch_sentences[0:-holdout_number]\n",
        "        batch_predictions = model.get_batch_predictions(batch_sentences2,numTokens+2)\n",
        "        total_predictions = []\n",
        "        total_predictions.extend(batch_predictions)\n",
        "        batch_predictions1 = model.get_batch_predictions(batch_sentences[-holdout_number:],numTokens+2)\n",
        "        total_predictions.extend(batch_predictions1)\n",
        "    else:\n",
        "        total_predictions = model.get_batch_predictions(batch_sentences,numTokens+2)\n",
        "    # batch_sentences =  [\"I enjoy walking in the park, but I'm not sure\", \"I enjoy walking in the park, but I'm not a\", \"I enjoy walking in the park, but I'm not going\", \"I enjoy walking in the park, but I'm also very\", \"I enjoy walking in the park, but I'm also not\", \"I enjoy walking in the park, but I'm afraid I\", \"I enjoy walking in the park, but I'm afraid that\", \"I enjoy walking in the park, but I'm afraid to\", \"I enjoy walking in the park, but I don't like\", \"I enjoy walking in the park, but I don't want\", \"I enjoy walking in the park, but I don't think\", \"I enjoy walking in the park, but I don' t\", 'I enjoy walking in the park, but I don � c', 'I enjoy walking in the park, but I don � ve', 'I enjoy walking in the park, but I also enjoy the', 'I enjoy walking in the park, but I also enjoy being', 'I enjoy walking in the park, but I also enjoy walking', \"I enjoy walking in the park, but it's a little\", \"I enjoy walking in the park, but it's a bit\", \"I enjoy walking in the park, but it's a lot\", \"I enjoy walking in the park, but it's hard for\", 'I enjoy walking in the park, but it is very difficult', 'I enjoy walking in the park, but it is very hard', 'I enjoy walking in the park, but it is very quiet', 'I enjoy walking in the park, but it can get really', 'I enjoy walking in the park, but it can get pretty', \"I enjoy walking in the park, but when I'm in\", \"I enjoy walking in the park, but when I'm out\", 'I enjoy walking in the park, but when I walk down', 'I enjoy walking in the park, but when I walk into', 'I enjoy walking in the park, but when I go back', \"I enjoy walking in the park, but when you're on\", \"I enjoy walking in the park, but when it's raining\", \"I enjoy walking in the park, but when it's time\", \"I enjoy walking in the park, but when it's dark\", 'I enjoy walking in the park, but when it rains,', 'I enjoy walking in the park, but when it rains it', 'I enjoy walking in the park, and the people there are', 'I enjoy walking in the park, and the people there have', 'I enjoy walking in the park, and the people there seem', 'I enjoy walking in the park, and the people who live', 'I enjoy walking in the park, and the people who come', 'I enjoy walking in the park, and the people are always', 'I enjoy walking in the park, and the people are so', 'I enjoy walking in the park, and the people are nice', 'I enjoy walking in the park, and the view is amazing', 'I enjoy walking in the park, and the view is beautiful', 'I enjoy walking in the park, and the view is great', 'I enjoy walking in the park, and the view from my', 'I enjoy walking in the park, and the view from here', 'I enjoy walking in the park, and the view of this', 'I enjoy walking in the park, and the view of Lake', 'I enjoy walking in the park, and the smell and smell', 'I enjoy walking in the park, and the smell and taste', 'I enjoy walking in the park, I like to play with', 'I enjoy walking in the park, I like to watch movies', 'I enjoy walking in the park, I like the view.', 'I enjoy walking in the park, I like the view of', 'I enjoy walking in the park, I like the smell and', 'I enjoy walking in the park, I like the way they', 'I enjoy walking in the park, I like being in front', 'I enjoy walking in the park, I like being around people', 'I enjoy walking in the park, I like being around other', 'I enjoy walking in the park, I enjoy playing with friends', 'I enjoy walking in the park, I enjoy playing the game', 'I enjoy walking in the park, I enjoy playing the guitar', 'I enjoy walking in the park, I enjoy playing the piano', 'I enjoy walking in the park and seeing people. I love', \"I enjoy walking in the park and seeing people. I'm\", \"I enjoy walking in the park and seeing people. It's\", 'I enjoy walking in the park and seeing people. It is', 'I enjoy walking in the park and seeing people. It makes', \"I enjoy walking in the park and seeing people. We're\", 'I enjoy walking in the park and seeing people, but when', 'I enjoy walking in the park and seeing people and seeing what', 'I enjoy walking in the park and seeing people and animals ,\"', 'I enjoy walking in the park and seeing all of these different', 'I enjoy walking in the park and seeing all of our neighbors', 'I enjoy walking in the park and seeing all of our favorite', 'I enjoy walking in the park and seeing all these beautiful trees', 'I enjoy walking in the park and seeing all these beautiful birds', 'I enjoy walking in the park and seeing all these different things', 'I enjoy walking in the park and seeing all these different species', 'I enjoy walking in the park and seeing all these different kinds', \"I enjoy walking in the park and it's a great place\", \"I enjoy walking in the park and it's a great way\", \"I enjoy walking in the park and it's a great experience\", \"I enjoy walking in the park and it's a nice feeling\", \"I enjoy walking in the park and it's nice to see\", \"I enjoy walking in the park and it's nice to be\", \"I enjoy walking in the park and it's nice. It\", \"I enjoy walking in the park and it's nice. The\", \"I enjoy walking in the park and it's nice that we\", \"I enjoy walking in the park and it's nice that you\", \"I enjoy walking in the park and it's great for me\", 'I enjoy walking in the park and it makes me want more', 'I enjoy walking in the park and it makes my day .\"', 'I enjoy walking in the park and it makes my life easier', 'I enjoy walking in the park and it makes my body feel', 'I enjoy walking in the park and it makes my body look', 'I enjoy walking in the park and it makes my body stronger', 'I enjoy walking in the park. The park itself has been', 'I enjoy walking in the park. The park itself has some', 'I enjoy walking in the park. The park itself, though', 'I enjoy walking in the park. The trees are so tall', 'I enjoy walking in the streets of the United Arab Emir ate', 'I enjoy walking in the streets of the United Arab Emir ates', 'I enjoy walking in the streets of the United Arab Emir ati', 'I enjoy walking in the streets of London, but it was', 'I enjoy walking in the streets of London and seeing how many']\n",
        "\n",
        "    # batch_predictions = model.get_batch_predictions(batch_sentences,numTokens+2)\n",
        "    for j in range(len(uniqueTokensList)):\n",
        "\n",
        "\n",
        "      for s in range(num_tokens):\n",
        "        context = total_predictions[j][s][0]\n",
        "        prob = total_predictions[j][s][1]\n",
        "\n",
        "        if (i == loop_runner-1):\n",
        "           print(context, end = \" \")\n",
        "           print(prob)\n",
        "\n",
        "\n",
        "        unique_tokens.add(context)\n",
        "\n",
        "        context = SearchTree(context,prob,uniqueTokensList[j])   #probably redundant: Because I should only create SearchTree of unique tokens\n",
        "        # context.create_child() Removed this 2/19/2025\n",
        "        if (len(unique_tokens)>previousSetLength):\n",
        "          previousSetLength = len(unique_tokens)\n",
        "          uniqueTokensList.append(context)\n",
        "          new_content.append(context.context)\n",
        "\n",
        "\n",
        "    #unique_elements.append(unique_tokens) # append the unique tokens list at each iteration to unique_elements list\n",
        "    content.append(new_content) # for storing tokens which will pass to the decode_path function.\n",
        "\n",
        "    for token in uniqueTokensList[previousUniqueLength:]:\n",
        "      probs = []  #for making probability matrix and applying viterbi.\n",
        "      probs2 = [] #for finding the new parent.\n",
        "      for prevToken in uniqueTokensList[:previousUniqueLength]:\n",
        "        probabilityCalc = findProbability(prevToken,token,model)\n",
        "\n",
        "\n",
        "        probs.append(probabilityCalc)\n",
        "        probs2.append(probabilityCalc*prevToken.calcProbTillNow())\n",
        "        #new code below inserted:\n",
        "      if not probs2:\n",
        "        continue\n",
        "      else:\n",
        "        max_value = max(probs2)\n",
        "        max_index = my_list.index(max_value)\n",
        "        token.replace_parent(uniqueTokensList[:previousUniqueLength][max_index])\n",
        "        token.assign_parent_index(max_index)\n",
        "\n",
        "      probability.append(probs)\n",
        "    probabilityMatrix.append(probability)\n",
        "    flops_counter[i-1] = model.get_batch_prediction_count()\n",
        "    model.reset_batch_prediction_count()\n",
        "\n",
        "\n",
        "    uniqueTokenLength.append(len(uniqueTokensList[previousUniqueLength:]))\n",
        "\n",
        "    previousUniqueLength = len(uniqueTokensList[previousUniqueLength:])\n",
        "    uniqueTokensList = uniqueTokensList[len(uniqueTokensList)-previousUniqueLength:]\n",
        "\n",
        "\n",
        "  return probabilityMatrix, initialStateProbability, content,uniqueTokenLength, flops_counter\n"
      ],
      "metadata": {
        "id": "gS2DhiGNk2u1"
      },
      "execution_count": null,
      "outputs": []
    },
    {
      "cell_type": "code",
      "source": [
        "P,S,C,length,flops = generateIntermediates(\"I enjoy walking in the\", 3,9)"
      ],
      "metadata": {
        "id": "3tvNaAVvk6LT"
      },
      "execution_count": null,
      "outputs": []
    },
    {
      "cell_type": "code",
      "source": [
        "print(length)"
      ],
      "metadata": {
        "colab": {
          "base_uri": "https://localhost:8080/"
        },
        "id": "LJkYVhugm-XE",
        "outputId": "75684359-7b1e-46fc-ce2a-b5bf89157109"
      },
      "execution_count": null,
      "outputs": [
        {
          "output_type": "stream",
          "name": "stdout",
          "text": [
            "[3, 4, 10, 23, 38, 75, 110, 8]\n"
          ]
        }
      ]
    },
    {
      "cell_type": "code",
      "source": [
        "best_path,viterbi_mat,best_path_prob = VITERBI_Lists(P,S)\n",
        "\n",
        "decodedString = decodePath(best_path,C,\"I enjoy walking in the\")\n",
        "print(decodedString)\n",
        "print(best_path_prob)"
      ],
      "metadata": {
        "id": "9C0lbvyek_Yf"
      },
      "execution_count": null,
      "outputs": []
    },
    {
      "cell_type": "code",
      "source": [
        "# batch_size = 105\n",
        "# total_predictions = []\n",
        "batch_sentences =  [\"I enjoy walking in the park, but I'm not sure\", \"I enjoy walking in the park, but I'm not a\", \"I enjoy walking in the park, but I'm not going\", \"I enjoy walking in the park, but I'm also very\", \"I enjoy walking in the park, but I'm also not\", \"I enjoy walking in the park, but I'm afraid I\", \"I enjoy walking in the park, but I'm afraid that\", \"I enjoy walking in the park, but I'm afraid to\", \"I enjoy walking in the park, but I don't like\", \"I enjoy walking in the park, but I don't want\", \"I enjoy walking in the park, but I don't think\", \"I enjoy walking in the park, but I don' t\", 'I enjoy walking in the park, but I don � c', 'I enjoy walking in the park, but I don � ve', 'I enjoy walking in the park, but I also enjoy the', 'I enjoy walking in the park, but I also enjoy being', 'I enjoy walking in the park, but I also enjoy walking', \"I enjoy walking in the park, but it's a little\", \"I enjoy walking in the park, but it's a bit\", \"I enjoy walking in the park, but it's a lot\", \"I enjoy walking in the park, but it's hard for\", 'I enjoy walking in the park, but it is very difficult', 'I enjoy walking in the park, but it is very hard', 'I enjoy walking in the park, but it is very quiet', 'I enjoy walking in the park, but it can get really', 'I enjoy walking in the park, but it can get pretty', \"I enjoy walking in the park, but when I'm in\", \"I enjoy walking in the park, but when I'm out\", 'I enjoy walking in the park, but when I walk down', 'I enjoy walking in the park, but when I walk into', 'I enjoy walking in the park, but when I go back', \"I enjoy walking in the park, but when you're on\", \"I enjoy walking in the park, but when it's raining\", \"I enjoy walking in the park, but when it's time\", \"I enjoy walking in the park, but when it's dark\", 'I enjoy walking in the park, but when it rains,', 'I enjoy walking in the park, but when it rains it', 'I enjoy walking in the park, and the people there are', 'I enjoy walking in the park, and the people there have', 'I enjoy walking in the park, and the people there seem', 'I enjoy walking in the park, and the people who live', 'I enjoy walking in the park, and the people who come', 'I enjoy walking in the park, and the people are always', 'I enjoy walking in the park, and the people are so', 'I enjoy walking in the park, and the people are nice', 'I enjoy walking in the park, and the view is amazing', 'I enjoy walking in the park, and the view is beautiful', 'I enjoy walking in the park, and the view is great', 'I enjoy walking in the park, and the view from my', 'I enjoy walking in the park, and the view from here', 'I enjoy walking in the park, and the view of this', 'I enjoy walking in the park, and the view of Lake', 'I enjoy walking in the park, and the smell and smell', 'I enjoy walking in the park, and the smell and taste', 'I enjoy walking in the park, I like to play with', 'I enjoy walking in the park, I like to watch movies', 'I enjoy walking in the park, I like the view.', 'I enjoy walking in the park, I like the view of', 'I enjoy walking in the park, I like the smell and', 'I enjoy walking in the park, I like the way they', 'I enjoy walking in the park, I like being in front', 'I enjoy walking in the park, I like being around people', 'I enjoy walking in the park, I like being around other', 'I enjoy walking in the park, I enjoy playing with friends', 'I enjoy walking in the park, I enjoy playing the game', 'I enjoy walking in the park, I enjoy playing the guitar', 'I enjoy walking in the park, I enjoy playing the piano', 'I enjoy walking in the park and seeing people. I love', \"I enjoy walking in the park and seeing people. I'm\", \"I enjoy walking in the park and seeing people. It's\", 'I enjoy walking in the park and seeing people. It is', 'I enjoy walking in the park and seeing people. It makes', \"I enjoy walking in the park and seeing people. We're\", 'I enjoy walking in the park and seeing people, but when', 'I enjoy walking in the park and seeing people and seeing what', 'I enjoy walking in the park and seeing people and animals ,\"', 'I enjoy walking in the park and seeing all of these different', 'I enjoy walking in the park and seeing all of our neighbors', 'I enjoy walking in the park and seeing all of our favorite', 'I enjoy walking in the park and seeing all these beautiful trees', 'I enjoy walking in the park and seeing all these beautiful birds', 'I enjoy walking in the park and seeing all these different things', 'I enjoy walking in the park and seeing all these different species', 'I enjoy walking in the park and seeing all these different kinds', \"I enjoy walking in the park and it's a great place\", \"I enjoy walking in the park and it's a great way\", \"I enjoy walking in the park and it's a great experience\", \"I enjoy walking in the park and it's a nice feeling\", \"I enjoy walking in the park and it's nice to see\", \"I enjoy walking in the park and it's nice to be\", \"I enjoy walking in the park and it's nice. It\", \"I enjoy walking in the park and it's nice. The\", \"I enjoy walking in the park and it's nice that we\", \"I enjoy walking in the park and it's nice that you\", \"I enjoy walking in the park and it's great for me\", 'I enjoy walking in the park and it makes me want more', 'I enjoy walking in the park and it makes my day .\"', 'I enjoy walking in the park and it makes my life easier', 'I enjoy walking in the park and it makes my body feel', 'I enjoy walking in the park and it makes my body look', 'I enjoy walking in the park and it makes my body stronger', 'I enjoy walking in the park. The park itself has been', 'I enjoy walking in the park. The park itself has some', 'I enjoy walking in the park. The park itself, though', 'I enjoy walking in the park. The trees are so tall', 'I enjoy walking in the streets of the United Arab Emir ate', 'I enjoy walking in the streets of the United Arab Emir ates', 'I enjoy walking in the streets of the United Arab Emir ati', 'I enjoy walking in the streets of London, but it was', 'I enjoy walking in the streets of London and seeing how many']\n",
        "# batch_sentences1 = batch_sentences[0:50]\n",
        "# batch_predictions = model.get_batch_predictions(batch_sentences[0:70],3+2)\n",
        "# print(\"batch_predictions: \", batch_predictions)\n",
        "holdout_number = 5\n",
        "batch_sentences2 = batch_sentences[0:-holdout_number]\n",
        "batch_predictions = model.get_batch_predictions(batch_sentences2,3+2)\n",
        "print(\"batch_predictions: \", batch_predictions)\n",
        "total_predictions = []\n",
        "total_predictions.extend(batch_predictions)\n",
        "batch_predictions1 = model.get_batch_predictions(batch_sentences[-holdout_number:],3+2)\n",
        "print(\"batch_predictions: \", batch_predictions1)\n",
        "total_predictions.extend(batch_predictions1)\n",
        "print(\"total_predictions: \",total_predictions)\n",
        "# iteration_number = (len(batch_sentences))//batch_size\n",
        "# for k in range(iteration_number):\n",
        "#     print(k)\n",
        "#     clear_cache()  # Free GPU memory before processing\n",
        "\n",
        "#     batch_predictions1 = model.get_batch_predictions(batch_sentences[batch_size*k:batch_size*(k+1)],6)\n",
        "#     print(\"batch_predictions: \", batch_predictions1)\n",
        "#     total_predictions.extend(batch_predictions1)\n",
        "#     print(\"total_predictions: \",total_predictions)\n",
        "\n",
        "# print(\"semifinal total_predictions: \", total_predictions)\n",
        "# print(len(total_predictions))\n",
        "# batch_sentences = batch_sentences[batch_size*(k+1):]\n",
        "# print(\"check: \", len(batch_sentences))\n",
        "# batch_predictions = model.get_batch_predictions(batch_sentences[0:45],3+2)\n",
        "# print(batch_predictions)\n",
        "clear_cache()  # Free GPU memory before processing\n",
        "\n",
        "\n",
        "# if (len(batch_sentences)%batch_size):\n",
        "#     start = batch_size*(k+1)\n",
        "#     end = len(batch_sentences)\n",
        "\n",
        "#     print(\"end-start: \", end-start)\n",
        "#     print(\"batch_sentences[0]: \",batch_sentences[start] )\n",
        "#     batch_predictions = model.get_batch_predictions(batch_sentences[start:end-4],3+3)\n",
        "#     print(\"batch_predictions: \", batch_predictions)\n",
        "#     total_predictions.extend(batch_predictions)\n",
        "#     print(\"final: \", total_predictions)\n",
        "# print(batch_sentences[-1])\n",
        "# clear_cache()  # Free GPU memory before processing\n",
        "# batch_sentences = batch_sentences[106:]\n",
        "\n",
        "# batch_predictions = model.get_batch_predictions(batch_sentences,3+3)\n",
        "# print(\"finalbatch_predictions: \", batch_predictions)\n",
        "# total_predictions.extend(batch_predictions)\n",
        "# print(\"final\", total_predictions)\n",
        "print(len(batch_sentences))\n",
        "print(len(total_predictions))\n"
      ],
      "metadata": {
        "colab": {
          "base_uri": "https://localhost:8080/"
        },
        "id": "zgDxBFpQoteX",
        "outputId": "523e3f9e-278a-4245-9f1e-8edeb78c2f97"
      },
      "execution_count": null,
      "outputs": [
        {
          "output_type": "stream",
          "name": "stdout",
          "text": [
            "batch_predictions:  [[('I', 0.22196993231773376), ('if', 0.21653705835342407), ('how', 0.14745603501796722), ('what', 0.0852440595626831), ('that', 0.0523461289703846)], [('big', 0.11360680311918259), ('fan', 0.10415048897266388), ('huge', 0.03251166641712189), ('great', 0.02184179238975048), ('very', 0.016514241695404053)], [('to', 0.864355742931366), ('anywhere', 0.040128689259290695), ('there', 0.01755983941257), ('out', 0.010512413457036018), ('back', 0.008705461397767067)], [('curious', 0.03471408784389496), ('interested', 0.030560605227947235), ('concerned', 0.03020295314490795), ('much', 0.025488410145044327), ('nervous', 0.025145182386040688)], [('a', 0.15220940113067627), ('sure', 0.1036079078912735), ('used', 0.03327564522624016), ('really', 0.03120976872742176), ('afraid', 0.03113960474729538)], [(\"'m\", 0.2475501447916031), (\"'ll\", 0.2088497132062912), ('can', 0.06224760413169861), ('won', 0.06211286783218384), ('don', 0.04461279511451721)], [('I', 0.18447834253311157), ('if', 0.09105762839317322), ('it', 0.05647861585021019), ('the', 0.05580102652311325), (\"'s\", 0.04253807291388512)], [('go', 0.1414688676595688), ('walk', 0.1251586377620697), ('do', 0.049676161259412766), ('be', 0.03942079097032547), ('get', 0.03575965389609337)], [('to', 0.196831613779068), ('the', 0.08623112738132477), ('being', 0.08533580601215363), ('walking', 0.03293780982494354), ('having', 0.030445998534560204)], [('to', 0.8489325642585754), ('people', 0.024156799539923668), ('my', 0.01788400486111641), ('it', 0.012247639708220959), ('the', 0.01013629324734211)], [('I', 0.40309885144233704), ('it', 0.14028097689151764), ('that', 0.06076880916953087), ('there', 0.038027573376894), ('you', 0.03750261664390564)], [('like', 0.44371914863586426), ('want', 0.15464700758457184), ('know', 0.03543754294514656), ('enjoy', 0.03135140240192413), ('have', 0.024191023781895638)], [('n', 0.15373265743255615), ('t', 0.06202032044529915), ('nt', 0.027427027001976967), (\"'t\", 0.023729775100946426), ('use', 0.023709869012236595)], [('been', 0.06426025182008743), ('walk', 0.04448970407247543), ('always', 0.037410393357276917), ('to', 0.03284146264195442), ('go', 0.030559571459889412)], [('fact', 0.033432140946388245), ('view', 0.030067311599850655), ('smell', 0.020715929567813873), ('outdoors', 0.016200805082917213), ('feeling', 0.014045360498130322)], [('in', 0.13642866909503937), ('around', 0.07763632386922836), ('able', 0.07407601177692413), ('on', 0.05710410699248314), ('a', 0.047808825969696045)], [('in', 0.15734843909740448), ('around', 0.09351794421672821), ('on', 0.07718796283006668), ('through', 0.07455217838287354), ('down', 0.05589582026004791)], [('bit', 0.12172514945268631), ('too', 0.053324852138757706), ('hard', 0.048716094344854355), ('scary', 0.045306310057640076), ('more', 0.04429056495428085)], [('of', 0.1325945407152176), ('more', 0.0567755326628685), ('too', 0.046478696167469025), ('hard', 0.0403968021273613), ('like', 0.033030830323696136)], [('of', 0.33452659845352173), ('more', 0.20381759107112885), ('harder', 0.0840444564819336), ('easier', 0.06237557902932167), ('less', 0.03908728435635567)], [('me', 0.9003869295120239), ('us', 0.0137360580265522), ('a', 0.009282942861318588), ('people', 0.008107791654765606), ('my', 0.00753897987306118)], [('to', 0.6037713289260864), ('for', 0.08646807074546814), ('.', 0.05524032190442085), ('when', 0.026778586208820343), ('and', 0.025191109627485275)], [('to', 0.655517041683197), ('for', 0.084690161049366), ('.', 0.03304920718073845), ('when', 0.025320958346128464), ('on', 0.02484958991408348)], [('.', 0.30904248356819153), ('and', 0.16273842751979828), (',', 0.06528688967227936), ('.\"', 0.055359672755002975), (',\"', 0.05167416110634804)], [('cold', 0.07328067719936371), ('busy', 0.061308231204748154), ('hot', 0.060820918530225754), ('crowded', 0.05890783667564392), ('hard', 0.032658081501722336)], [('busy', 0.0923512876033783), ('cold', 0.07543705403804779), ('crowded', 0.0678161233663559), ('hot', 0.04820416867733002), ('lonely', 0.031780894845724106)], [('the', 0.34733495116233826), ('a', 0.147392138838768), ('my', 0.050233423709869385), ('town', 0.0309741348028183), ('there', 0.025900596752762794)], [('there', 0.15752792358398438), ('in', 0.11333680152893066), ('of', 0.10036641359329224), ('on', 0.08808448165655136), ('I', 0.07256806641817093)], [('the', 0.5077632069587708), ('to', 0.07903031259775162), ('a', 0.05820087715983391), ('it', 0.023090910166502), ('I', 0.023007381707429886)], [('the', 0.4333055317401886), ('a', 0.20627334713935852), ('my', 0.04443768411874771), ('it', 0.02944893017411232), ('an', 0.01810569129884243)], [('to', 0.3922604024410248), ('I', 0.11011411994695663), ('home', 0.09484684467315674), (',', 0.07961414009332657), ('there', 0.04427780956029892)], [('the', 0.35265278816223145), ('a', 0.2775849401950836), ('your', 0.12116891890764236), ('my', 0.021393785253167152), ('an', 0.016126591712236404)], [(',', 0.3232887387275696), ('I', 0.12115953862667084), ('and', 0.09383292496204376), ('it', 0.06638994812965393), ('or', 0.05059898644685745)], [('to', 0.7035285830497742), ('for', 0.25400441884994507), (',', 0.011531624011695385), ('I', 0.007754617370665073), ('you', 0.0024826216977089643)], [(',', 0.3550336956977844), ('and', 0.13841721415519714), ('I', 0.13545237481594086), ('it', 0.04217687249183655), ('out', 0.03452976420521736)], [('I', 0.4507603049278259), ('it', 0.1450997292995453), ('you', 0.06129255145788193), ('we', 0.03374350443482399), ('my', 0.03345742076635361)], [(\"'s\", 0.35126185417175293), ('can', 0.0608806312084198), ('gets', 0.05752069130539894), ('is', 0.04942428693175316), ('makes', 0.04761689156293869)], [('very', 0.07125496119260788), ('amazing', 0.06943885236978531), ('great', 0.06170273199677467), ('wonderful', 0.057220906019210815), ('always', 0.05590348690748215)], [('been', 0.20014148950576782), ('a', 0.1754530966281891), ('always', 0.0662119910120964), ('an', 0.02929566241800785), ('great', 0.024853991344571114)], [('to', 0.6295521259307861), ('very', 0.04111742228269577), ('like', 0.03711788356304169), ('pretty', 0.02145777828991413), ('so', 0.01726207695901394)], [('there', 0.32400986552238464), ('here', 0.21138323843479156), ('in', 0.18074773252010345), ('on', 0.030500542372465134), ('around', 0.026668885722756386)], [('to', 0.19171816110610962), ('here', 0.1356273740530014), ('in', 0.12068471312522888), ('out', 0.0889771431684494), ('are', 0.051769010722637177)], [('there', 0.09259434789419174), ('nice', 0.07820221781730652), ('friendly', 0.04578370228409767), ('welcoming', 0.03208041563630104), ('looking', 0.03075883537530899)], [('friendly', 0.3533625602722168), ('nice', 0.2393617331981659), ('welcoming', 0.08363819867372513), ('kind', 0.03228035196661949), ('wonderful', 0.017277900129556656)], [('.', 0.28787049651145935), ('and', 0.2257092148065567), (',', 0.15729418396949768), (',\"', 0.08162243664264679), ('.\"', 0.05458715558052063)], [('.', 0.5202882289886475), ('.\"', 0.09762881696224213), (',\"', 0.08424225449562073), (',', 0.07244980335235596), ('!', 0.033318568021059036)], [('.', 0.4455767571926117), (',', 0.10316386818885803), ('.\"', 0.09534040838479996), ('and', 0.09147556126117706), (',\"', 0.057891763746738434)], [('.', 0.432162344455719), (',\"', 0.09889686107635498), ('.\"', 0.0945712998509407), (',', 0.09004867076873779), ('!', 0.029296372085809708)], [('balcony', 0.09713919460773468), ('car', 0.09582892805337906), ('window', 0.0833173468708992), ('house', 0.04565379023551941), ('vantage', 0.043563149869441986)], [('is', 0.557451069355011), ('.', 0.06269285082817078), (',', 0.036944471299648285), ('makes', 0.02362620085477829), ('and', 0.021960968151688576)], [('beautiful', 0.05170031264424324), ('park', 0.042952392250299454), ('place', 0.03912829980254173), ('area', 0.026654494926333427), ('city', 0.02530595287680626)], [('Michigan', 0.15792348980903625), ('Ontario', 0.046483781188726425), ('Erie', 0.040820736438035965), ('Superior', 0.030394472181797028), ('Tah', 0.02996779792010784)], [('of', 0.7760917544364929), ('and', 0.05408842861652374), ('is', 0.04377274215221405), (',', 0.013426387682557106), ('.', 0.011949604377150536)], [('of', 0.5902919173240662), ('is', 0.14586414396762848), ('are', 0.06308431923389435), ('and', 0.02258092723786831), ('.', 0.017821328714489937)], [('my', 0.4910052716732025), ('the', 0.1340174525976181), ('friends', 0.058484047651290894), ('people', 0.04078517109155655), ('kids', 0.02779376693069935)], [(',', 0.34444543719291687), ('and', 0.26194432377815247), ('.', 0.09956403821706772), ('with', 0.06535399705171585), (',\"', 0.02640298381447792)], [('I', 0.30210474133491516), ('But', 0.08944109082221985), ('It', 0.07212170213460922), ('The', 0.043971896171569824)], [('the', 0.6212863326072693), ('my', 0.025037670508027077), ('this', 0.014525226317346096), ('it', 0.012880816124379635), ('our', 0.012022466398775578)], [('the', 0.4255659580230713), ('I', 0.1435507982969284), ('feel', 0.0818258598446846), ('it', 0.028888849541544914), ('smell', 0.019048674032092094)], [(\"'re\", 0.0713951513171196), ('have', 0.04398729279637337), ('look', 0.04088134691119194), ('walk', 0.03251546248793602), ('play', 0.03251050040125847)], [('of', 0.9644734263420105), (',', 0.007734676823019981), ('.', 0.005864075850695372), ('and', 0.005840768106281757), (',\"', 0.001890719635412097)], [('who', 0.2095511257648468), (',', 0.1576690375804901), ('and', 0.12595334649085999), ('.', 0.10622774809598923), ('I', 0.07822173088788986)], [('people', 0.6271606087684631), ('kids', 0.08115345239639282), ('animals', 0.013267863541841507), ('artists', 0.01316752564162016), ('guys', 0.011763917282223701)], [(',', 0.4285220205783844), ('and', 0.25831443071365356), ('.', 0.10419422388076782), (',\"', 0.025922738015651703), ('in', 0.012187621556222439)], [(',', 0.283513605594635), ('and', 0.2044176310300827), ('.', 0.11039204895496368), ('of', 0.08628224581480026), ('with', 0.04513850808143616)], [(',', 0.43302470445632935), ('and', 0.2572171688079834), ('.', 0.064335398375988), ('with', 0.025164132937788963), ('in', 0.02047484740614891)], [(',', 0.463218629360199), ('and', 0.24881097674369812), ('.', 0.07608015835285187), ('with', 0.0334123857319355), (',\"', 0.025520239025354385)], [('to', 0.0996038094162941), ('the', 0.09049194306135178), ('being', 0.07883699238300323), ('seeing', 0.06204437091946602), ('it', 0.041113462299108505)], [('not', 0.10825557261705399), ('a', 0.08758647739887238), ('always', 0.04765555262565613), ('also', 0.03839411586523056), ('really', 0.03564174845814705)], [('a', 0.1821073293685913), ('nice', 0.061691924929618835), ('great', 0.04293830692768097), ('fun', 0.04244615510106087), ('really', 0.038946326822042465)], [('a', 0.20035545527935028), ('so', 0.04110162332653999), ('an', 0.035290446132421494), ('nice', 0.033163946121931076), ('very', 0.03295661509037018)], [('me', 0.6305593848228455), ('my', 0.06855393201112747), ('you', 0.06842956691980362), ('it', 0.04896974563598633), ('the', 0.03224034607410431)], [('not', 0.0901564359664917), ('just', 0.05196639522910118), ('all', 0.0498073473572731), ('always', 0.04857345297932625), ('a', 0.04090544581413269)], [('I', 0.4268166422843933), ('you', 0.23792198300361633), ('it', 0.11432182043790817), ('we', 0.04634055867791176), ('they', 0.023905634880065918)], [('they', 0.3827511966228485), (\"'s\", 0.14549225568771362), ('people', 0.051516372710466385), ('it', 0.0482189878821373), ('the', 0.034116290509700775)], [('said', 0.17973022162914276), ('he', 0.17623575031757355), ('she', 0.10278408229351044), ('says', 0.060669854283332825), ('Mr', 0.011307883076369762)], [('things', 0.10320942848920822), ('species', 0.05247906967997551), ('kinds', 0.04302605986595154), ('people', 0.03849070519208908), ('cultures', 0.03783561289310455)], [('.', 0.1664002686738968), ('and', 0.09581112861633301), (',', 0.09266234189271927), (',\"', 0.05866163596510887), ('.\"', 0.03272118791937828)], [('places', 0.04940570518374443), ('parks', 0.03514043614268303), ('things', 0.03226783871650696), ('artists', 0.028956275433301926), ('animals', 0.028833704069256783)], [('.', 0.22692304849624634), ('and', 0.1894090175628662), (',', 0.12125667929649353), (',\"', 0.06486392021179199), ('.\"', 0.036347631365060806)], [('.', 0.2646392285823822), (',', 0.11381644010543823), ('and', 0.10732439160346985), (',\"', 0.08912926912307739), ('.\"', 0.051975153386592865)], [('.', 0.2461370825767517), (',', 0.11822407692670822), (',\"', 0.09986427426338196), ('happening', 0.06938908994197845), ('that', 0.051459476351737976)], [('of', 0.3289923667907715), ('.', 0.13753525912761688), (',', 0.08609232306480408), ('and', 0.07074417173862457), (',\"', 0.040838759392499924)], [('of', 0.9943999648094177), ('and', 0.0009899890283122659), ('.', 0.0005649314844049513), (',', 0.0005494335200637579), ('people', 0.0003708361473400146)], [('to', 0.8129065632820129), ('for', 0.1041608452796936), ('.', 0.02534756064414978), (',\"', 0.01077418215572834), ('.\"', 0.00609061261638999)], [('to', 0.9487864375114441), ('for', 0.03294739872217178), ('of', 0.010717406868934631), ('out', 0.001695869374088943), ('off', 0.0005560326972045004)], [('.', 0.26286715269088745), ('to', 0.18117374181747437), (',\"', 0.12893684208393097), ('for', 0.10103320330381393), ('.\"', 0.07145711779594421)], [('to', 0.34018757939338684), ('.', 0.15980929136276245), (',\"', 0.07033248245716095), ('when', 0.05511033907532692), ('.\"', 0.049135588109493256)], [('the', 0.1352703720331192), ('people', 0.12263529747724533), ('that', 0.060570087283849716), ('a', 0.05482707545161247), ('so', 0.047409068793058395)], [('able', 0.45260345935821533), ('out', 0.06342898309230804), ('back', 0.0539877712726593), ('surrounded', 0.04274369776248932), ('in', 0.03725896775722504)], [(\"'s\", 0.6851110458374023), ('is', 0.03669722378253937), ('has', 0.0242123045027256), ('was', 0.020056631416082382), ('makes', 0.01989569142460823)], [('park', 0.0356130488216877), ('trees', 0.02424859069287777), ('only', 0.023357389494776726), ('kids', 0.015537193045020103), ('water', 0.014414574019610882)], [('can', 0.2535153925418854), ('have', 0.20039422810077667), (\"'re\", 0.11740371584892273), ('don', 0.07932789623737335), ('get', 0.05924365296959877)], [('can', 0.40763288736343384), ('don', 0.12837311625480652), (\"'re\", 0.0949341207742691), ('have', 0.07448167353868484), ('get', 0.05255334451794624)], [('to', 0.5165684223175049), ('.', 0.09334912896156311), (',\"', 0.07243075221776962), ('.\"', 0.04275106266140938), (',', 0.036984413862228394)], [('.', 0.24326962232589722), ('of', 0.09984146058559418), (',\"', 0.06833523511886597), ('.\"', 0.0581388995051384), ('to', 0.051194000989198685)], [('<|endoftext|>', 0.06126679107546806), ('-', 0.02738202176988125), ('\"', 0.025844892486929893)], [('.', 0.32622388005256653), (',\"', 0.1457027792930603), ('.\"', 0.11794151365756989), (',', 0.05197056382894516), ('and', 0.04849625378847122)], [('good', 0.15199196338653564), ('better', 0.14166127145290375), ('more', 0.05451828986406326), ('like', 0.05006774514913559), ('great', 0.040166158229112625)], [('good', 0.10691195726394653), ('better', 0.0962052121758461), ('like', 0.09320687502622604), ('more', 0.04460461065173149), ('great', 0.03925666585564613)], [('.', 0.3025491237640381), ('and', 0.1535562127828598), (',\"', 0.10913635790348053), ('.\"', 0.09960431605577469), (',', 0.0886034294962883)], [('a', 0.10588204860687256), ('built', 0.04284750670194626), ('designed', 0.042716942727565765), ('very', 0.030033119022846222), ('transformed', 0.018566075712442398)], [('of', 0.1083652526140213), ('really', 0.0945286750793457), ('great', 0.08515036106109619), ('amazing', 0.07035447657108307), ('pretty', 0.05026128515601158)], [(',', 0.684529185295105), ('it', 0.0374460369348526), ('not', 0.015741506591439247), ('a', 0.012343022972345352), ('I', 0.009469863958656788)], [('and', 0.34906062483787537), (',', 0.19817231595516205), ('that', 0.12008117139339447), ('.', 0.06472162902355194), ('they', 0.04488098621368408)]]\n",
            "batch_predictions:  [[('The', 0.0095070730894804), ('\"', 0.003524618688970804), ('I', 0.0030434688087552786), ('A', 0.0026155998930335045)], [(',', 0.1289931684732437), ('.', 0.10956281423568726), ('and', 0.0831674188375473), ('of', 0.035598885267972946), (',\"', 0.030673645436763763)], [(',', 0.04326171427965164), ('.', 0.040661245584487915), ('-', 0.03138583526015282), ('al', 0.017831813544034958), ('...', 0.01751682721078396)], [('The', 0.08374720811843872), ('\"', 0.03083709627389908), ('I', 0.030613698065280914), ('A', 0.0269969180226326), ('This', 0.020437665283679962)], [('The', 0.010293558239936829), ('I', 0.0036044579464942217), ('\"', 0.0029619617853313684), ('This', 0.0026739093009382486)]]\n",
            "total_predictions:  [[('I', 0.22196993231773376), ('if', 0.21653705835342407), ('how', 0.14745603501796722), ('what', 0.0852440595626831), ('that', 0.0523461289703846)], [('big', 0.11360680311918259), ('fan', 0.10415048897266388), ('huge', 0.03251166641712189), ('great', 0.02184179238975048), ('very', 0.016514241695404053)], [('to', 0.864355742931366), ('anywhere', 0.040128689259290695), ('there', 0.01755983941257), ('out', 0.010512413457036018), ('back', 0.008705461397767067)], [('curious', 0.03471408784389496), ('interested', 0.030560605227947235), ('concerned', 0.03020295314490795), ('much', 0.025488410145044327), ('nervous', 0.025145182386040688)], [('a', 0.15220940113067627), ('sure', 0.1036079078912735), ('used', 0.03327564522624016), ('really', 0.03120976872742176), ('afraid', 0.03113960474729538)], [(\"'m\", 0.2475501447916031), (\"'ll\", 0.2088497132062912), ('can', 0.06224760413169861), ('won', 0.06211286783218384), ('don', 0.04461279511451721)], [('I', 0.18447834253311157), ('if', 0.09105762839317322), ('it', 0.05647861585021019), ('the', 0.05580102652311325), (\"'s\", 0.04253807291388512)], [('go', 0.1414688676595688), ('walk', 0.1251586377620697), ('do', 0.049676161259412766), ('be', 0.03942079097032547), ('get', 0.03575965389609337)], [('to', 0.196831613779068), ('the', 0.08623112738132477), ('being', 0.08533580601215363), ('walking', 0.03293780982494354), ('having', 0.030445998534560204)], [('to', 0.8489325642585754), ('people', 0.024156799539923668), ('my', 0.01788400486111641), ('it', 0.012247639708220959), ('the', 0.01013629324734211)], [('I', 0.40309885144233704), ('it', 0.14028097689151764), ('that', 0.06076880916953087), ('there', 0.038027573376894), ('you', 0.03750261664390564)], [('like', 0.44371914863586426), ('want', 0.15464700758457184), ('know', 0.03543754294514656), ('enjoy', 0.03135140240192413), ('have', 0.024191023781895638)], [('n', 0.15373265743255615), ('t', 0.06202032044529915), ('nt', 0.027427027001976967), (\"'t\", 0.023729775100946426), ('use', 0.023709869012236595)], [('been', 0.06426025182008743), ('walk', 0.04448970407247543), ('always', 0.037410393357276917), ('to', 0.03284146264195442), ('go', 0.030559571459889412)], [('fact', 0.033432140946388245), ('view', 0.030067311599850655), ('smell', 0.020715929567813873), ('outdoors', 0.016200805082917213), ('feeling', 0.014045360498130322)], [('in', 0.13642866909503937), ('around', 0.07763632386922836), ('able', 0.07407601177692413), ('on', 0.05710410699248314), ('a', 0.047808825969696045)], [('in', 0.15734843909740448), ('around', 0.09351794421672821), ('on', 0.07718796283006668), ('through', 0.07455217838287354), ('down', 0.05589582026004791)], [('bit', 0.12172514945268631), ('too', 0.053324852138757706), ('hard', 0.048716094344854355), ('scary', 0.045306310057640076), ('more', 0.04429056495428085)], [('of', 0.1325945407152176), ('more', 0.0567755326628685), ('too', 0.046478696167469025), ('hard', 0.0403968021273613), ('like', 0.033030830323696136)], [('of', 0.33452659845352173), ('more', 0.20381759107112885), ('harder', 0.0840444564819336), ('easier', 0.06237557902932167), ('less', 0.03908728435635567)], [('me', 0.9003869295120239), ('us', 0.0137360580265522), ('a', 0.009282942861318588), ('people', 0.008107791654765606), ('my', 0.00753897987306118)], [('to', 0.6037713289260864), ('for', 0.08646807074546814), ('.', 0.05524032190442085), ('when', 0.026778586208820343), ('and', 0.025191109627485275)], [('to', 0.655517041683197), ('for', 0.084690161049366), ('.', 0.03304920718073845), ('when', 0.025320958346128464), ('on', 0.02484958991408348)], [('.', 0.30904248356819153), ('and', 0.16273842751979828), (',', 0.06528688967227936), ('.\"', 0.055359672755002975), (',\"', 0.05167416110634804)], [('cold', 0.07328067719936371), ('busy', 0.061308231204748154), ('hot', 0.060820918530225754), ('crowded', 0.05890783667564392), ('hard', 0.032658081501722336)], [('busy', 0.0923512876033783), ('cold', 0.07543705403804779), ('crowded', 0.0678161233663559), ('hot', 0.04820416867733002), ('lonely', 0.031780894845724106)], [('the', 0.34733495116233826), ('a', 0.147392138838768), ('my', 0.050233423709869385), ('town', 0.0309741348028183), ('there', 0.025900596752762794)], [('there', 0.15752792358398438), ('in', 0.11333680152893066), ('of', 0.10036641359329224), ('on', 0.08808448165655136), ('I', 0.07256806641817093)], [('the', 0.5077632069587708), ('to', 0.07903031259775162), ('a', 0.05820087715983391), ('it', 0.023090910166502), ('I', 0.023007381707429886)], [('the', 0.4333055317401886), ('a', 0.20627334713935852), ('my', 0.04443768411874771), ('it', 0.02944893017411232), ('an', 0.01810569129884243)], [('to', 0.3922604024410248), ('I', 0.11011411994695663), ('home', 0.09484684467315674), (',', 0.07961414009332657), ('there', 0.04427780956029892)], [('the', 0.35265278816223145), ('a', 0.2775849401950836), ('your', 0.12116891890764236), ('my', 0.021393785253167152), ('an', 0.016126591712236404)], [(',', 0.3232887387275696), ('I', 0.12115953862667084), ('and', 0.09383292496204376), ('it', 0.06638994812965393), ('or', 0.05059898644685745)], [('to', 0.7035285830497742), ('for', 0.25400441884994507), (',', 0.011531624011695385), ('I', 0.007754617370665073), ('you', 0.0024826216977089643)], [(',', 0.3550336956977844), ('and', 0.13841721415519714), ('I', 0.13545237481594086), ('it', 0.04217687249183655), ('out', 0.03452976420521736)], [('I', 0.4507603049278259), ('it', 0.1450997292995453), ('you', 0.06129255145788193), ('we', 0.03374350443482399), ('my', 0.03345742076635361)], [(\"'s\", 0.35126185417175293), ('can', 0.0608806312084198), ('gets', 0.05752069130539894), ('is', 0.04942428693175316), ('makes', 0.04761689156293869)], [('very', 0.07125496119260788), ('amazing', 0.06943885236978531), ('great', 0.06170273199677467), ('wonderful', 0.057220906019210815), ('always', 0.05590348690748215)], [('been', 0.20014148950576782), ('a', 0.1754530966281891), ('always', 0.0662119910120964), ('an', 0.02929566241800785), ('great', 0.024853991344571114)], [('to', 0.6295521259307861), ('very', 0.04111742228269577), ('like', 0.03711788356304169), ('pretty', 0.02145777828991413), ('so', 0.01726207695901394)], [('there', 0.32400986552238464), ('here', 0.21138323843479156), ('in', 0.18074773252010345), ('on', 0.030500542372465134), ('around', 0.026668885722756386)], [('to', 0.19171816110610962), ('here', 0.1356273740530014), ('in', 0.12068471312522888), ('out', 0.0889771431684494), ('are', 0.051769010722637177)], [('there', 0.09259434789419174), ('nice', 0.07820221781730652), ('friendly', 0.04578370228409767), ('welcoming', 0.03208041563630104), ('looking', 0.03075883537530899)], [('friendly', 0.3533625602722168), ('nice', 0.2393617331981659), ('welcoming', 0.08363819867372513), ('kind', 0.03228035196661949), ('wonderful', 0.017277900129556656)], [('.', 0.28787049651145935), ('and', 0.2257092148065567), (',', 0.15729418396949768), (',\"', 0.08162243664264679), ('.\"', 0.05458715558052063)], [('.', 0.5202882289886475), ('.\"', 0.09762881696224213), (',\"', 0.08424225449562073), (',', 0.07244980335235596), ('!', 0.033318568021059036)], [('.', 0.4455767571926117), (',', 0.10316386818885803), ('.\"', 0.09534040838479996), ('and', 0.09147556126117706), (',\"', 0.057891763746738434)], [('.', 0.432162344455719), (',\"', 0.09889686107635498), ('.\"', 0.0945712998509407), (',', 0.09004867076873779), ('!', 0.029296372085809708)], [('balcony', 0.09713919460773468), ('car', 0.09582892805337906), ('window', 0.0833173468708992), ('house', 0.04565379023551941), ('vantage', 0.043563149869441986)], [('is', 0.557451069355011), ('.', 0.06269285082817078), (',', 0.036944471299648285), ('makes', 0.02362620085477829), ('and', 0.021960968151688576)], [('beautiful', 0.05170031264424324), ('park', 0.042952392250299454), ('place', 0.03912829980254173), ('area', 0.026654494926333427), ('city', 0.02530595287680626)], [('Michigan', 0.15792348980903625), ('Ontario', 0.046483781188726425), ('Erie', 0.040820736438035965), ('Superior', 0.030394472181797028), ('Tah', 0.02996779792010784)], [('of', 0.7760917544364929), ('and', 0.05408842861652374), ('is', 0.04377274215221405), (',', 0.013426387682557106), ('.', 0.011949604377150536)], [('of', 0.5902919173240662), ('is', 0.14586414396762848), ('are', 0.06308431923389435), ('and', 0.02258092723786831), ('.', 0.017821328714489937)], [('my', 0.4910052716732025), ('the', 0.1340174525976181), ('friends', 0.058484047651290894), ('people', 0.04078517109155655), ('kids', 0.02779376693069935)], [(',', 0.34444543719291687), ('and', 0.26194432377815247), ('.', 0.09956403821706772), ('with', 0.06535399705171585), (',\"', 0.02640298381447792)], [('I', 0.30210474133491516), ('But', 0.08944109082221985), ('It', 0.07212170213460922), ('The', 0.043971896171569824)], [('the', 0.6212863326072693), ('my', 0.025037670508027077), ('this', 0.014525226317346096), ('it', 0.012880816124379635), ('our', 0.012022466398775578)], [('the', 0.4255659580230713), ('I', 0.1435507982969284), ('feel', 0.0818258598446846), ('it', 0.028888849541544914), ('smell', 0.019048674032092094)], [(\"'re\", 0.0713951513171196), ('have', 0.04398729279637337), ('look', 0.04088134691119194), ('walk', 0.03251546248793602), ('play', 0.03251050040125847)], [('of', 0.9644734263420105), (',', 0.007734676823019981), ('.', 0.005864075850695372), ('and', 0.005840768106281757), (',\"', 0.001890719635412097)], [('who', 0.2095511257648468), (',', 0.1576690375804901), ('and', 0.12595334649085999), ('.', 0.10622774809598923), ('I', 0.07822173088788986)], [('people', 0.6271606087684631), ('kids', 0.08115345239639282), ('animals', 0.013267863541841507), ('artists', 0.01316752564162016), ('guys', 0.011763917282223701)], [(',', 0.4285220205783844), ('and', 0.25831443071365356), ('.', 0.10419422388076782), (',\"', 0.025922738015651703), ('in', 0.012187621556222439)], [(',', 0.283513605594635), ('and', 0.2044176310300827), ('.', 0.11039204895496368), ('of', 0.08628224581480026), ('with', 0.04513850808143616)], [(',', 0.43302470445632935), ('and', 0.2572171688079834), ('.', 0.064335398375988), ('with', 0.025164132937788963), ('in', 0.02047484740614891)], [(',', 0.463218629360199), ('and', 0.24881097674369812), ('.', 0.07608015835285187), ('with', 0.0334123857319355), (',\"', 0.025520239025354385)], [('to', 0.0996038094162941), ('the', 0.09049194306135178), ('being', 0.07883699238300323), ('seeing', 0.06204437091946602), ('it', 0.041113462299108505)], [('not', 0.10825557261705399), ('a', 0.08758647739887238), ('always', 0.04765555262565613), ('also', 0.03839411586523056), ('really', 0.03564174845814705)], [('a', 0.1821073293685913), ('nice', 0.061691924929618835), ('great', 0.04293830692768097), ('fun', 0.04244615510106087), ('really', 0.038946326822042465)], [('a', 0.20035545527935028), ('so', 0.04110162332653999), ('an', 0.035290446132421494), ('nice', 0.033163946121931076), ('very', 0.03295661509037018)], [('me', 0.6305593848228455), ('my', 0.06855393201112747), ('you', 0.06842956691980362), ('it', 0.04896974563598633), ('the', 0.03224034607410431)], [('not', 0.0901564359664917), ('just', 0.05196639522910118), ('all', 0.0498073473572731), ('always', 0.04857345297932625), ('a', 0.04090544581413269)], [('I', 0.4268166422843933), ('you', 0.23792198300361633), ('it', 0.11432182043790817), ('we', 0.04634055867791176), ('they', 0.023905634880065918)], [('they', 0.3827511966228485), (\"'s\", 0.14549225568771362), ('people', 0.051516372710466385), ('it', 0.0482189878821373), ('the', 0.034116290509700775)], [('said', 0.17973022162914276), ('he', 0.17623575031757355), ('she', 0.10278408229351044), ('says', 0.060669854283332825), ('Mr', 0.011307883076369762)], [('things', 0.10320942848920822), ('species', 0.05247906967997551), ('kinds', 0.04302605986595154), ('people', 0.03849070519208908), ('cultures', 0.03783561289310455)], [('.', 0.1664002686738968), ('and', 0.09581112861633301), (',', 0.09266234189271927), (',\"', 0.05866163596510887), ('.\"', 0.03272118791937828)], [('places', 0.04940570518374443), ('parks', 0.03514043614268303), ('things', 0.03226783871650696), ('artists', 0.028956275433301926), ('animals', 0.028833704069256783)], [('.', 0.22692304849624634), ('and', 0.1894090175628662), (',', 0.12125667929649353), (',\"', 0.06486392021179199), ('.\"', 0.036347631365060806)], [('.', 0.2646392285823822), (',', 0.11381644010543823), ('and', 0.10732439160346985), (',\"', 0.08912926912307739), ('.\"', 0.051975153386592865)], [('.', 0.2461370825767517), (',', 0.11822407692670822), (',\"', 0.09986427426338196), ('happening', 0.06938908994197845), ('that', 0.051459476351737976)], [('of', 0.3289923667907715), ('.', 0.13753525912761688), (',', 0.08609232306480408), ('and', 0.07074417173862457), (',\"', 0.040838759392499924)], [('of', 0.9943999648094177), ('and', 0.0009899890283122659), ('.', 0.0005649314844049513), (',', 0.0005494335200637579), ('people', 0.0003708361473400146)], [('to', 0.8129065632820129), ('for', 0.1041608452796936), ('.', 0.02534756064414978), (',\"', 0.01077418215572834), ('.\"', 0.00609061261638999)], [('to', 0.9487864375114441), ('for', 0.03294739872217178), ('of', 0.010717406868934631), ('out', 0.001695869374088943), ('off', 0.0005560326972045004)], [('.', 0.26286715269088745), ('to', 0.18117374181747437), (',\"', 0.12893684208393097), ('for', 0.10103320330381393), ('.\"', 0.07145711779594421)], [('to', 0.34018757939338684), ('.', 0.15980929136276245), (',\"', 0.07033248245716095), ('when', 0.05511033907532692), ('.\"', 0.049135588109493256)], [('the', 0.1352703720331192), ('people', 0.12263529747724533), ('that', 0.060570087283849716), ('a', 0.05482707545161247), ('so', 0.047409068793058395)], [('able', 0.45260345935821533), ('out', 0.06342898309230804), ('back', 0.0539877712726593), ('surrounded', 0.04274369776248932), ('in', 0.03725896775722504)], [(\"'s\", 0.6851110458374023), ('is', 0.03669722378253937), ('has', 0.0242123045027256), ('was', 0.020056631416082382), ('makes', 0.01989569142460823)], [('park', 0.0356130488216877), ('trees', 0.02424859069287777), ('only', 0.023357389494776726), ('kids', 0.015537193045020103), ('water', 0.014414574019610882)], [('can', 0.2535153925418854), ('have', 0.20039422810077667), (\"'re\", 0.11740371584892273), ('don', 0.07932789623737335), ('get', 0.05924365296959877)], [('can', 0.40763288736343384), ('don', 0.12837311625480652), (\"'re\", 0.0949341207742691), ('have', 0.07448167353868484), ('get', 0.05255334451794624)], [('to', 0.5165684223175049), ('.', 0.09334912896156311), (',\"', 0.07243075221776962), ('.\"', 0.04275106266140938), (',', 0.036984413862228394)], [('.', 0.24326962232589722), ('of', 0.09984146058559418), (',\"', 0.06833523511886597), ('.\"', 0.0581388995051384), ('to', 0.051194000989198685)], [('<|endoftext|>', 0.06126679107546806), ('-', 0.02738202176988125), ('\"', 0.025844892486929893)], [('.', 0.32622388005256653), (',\"', 0.1457027792930603), ('.\"', 0.11794151365756989), (',', 0.05197056382894516), ('and', 0.04849625378847122)], [('good', 0.15199196338653564), ('better', 0.14166127145290375), ('more', 0.05451828986406326), ('like', 0.05006774514913559), ('great', 0.040166158229112625)], [('good', 0.10691195726394653), ('better', 0.0962052121758461), ('like', 0.09320687502622604), ('more', 0.04460461065173149), ('great', 0.03925666585564613)], [('.', 0.3025491237640381), ('and', 0.1535562127828598), (',\"', 0.10913635790348053), ('.\"', 0.09960431605577469), (',', 0.0886034294962883)], [('a', 0.10588204860687256), ('built', 0.04284750670194626), ('designed', 0.042716942727565765), ('very', 0.030033119022846222), ('transformed', 0.018566075712442398)], [('of', 0.1083652526140213), ('really', 0.0945286750793457), ('great', 0.08515036106109619), ('amazing', 0.07035447657108307), ('pretty', 0.05026128515601158)], [(',', 0.684529185295105), ('it', 0.0374460369348526), ('not', 0.015741506591439247), ('a', 0.012343022972345352), ('I', 0.009469863958656788)], [('and', 0.34906062483787537), (',', 0.19817231595516205), ('that', 0.12008117139339447), ('.', 0.06472162902355194), ('they', 0.04488098621368408)], [('The', 0.0095070730894804), ('\"', 0.003524618688970804), ('I', 0.0030434688087552786), ('A', 0.0026155998930335045)], [(',', 0.1289931684732437), ('.', 0.10956281423568726), ('and', 0.0831674188375473), ('of', 0.035598885267972946), (',\"', 0.030673645436763763)], [(',', 0.04326171427965164), ('.', 0.040661245584487915), ('-', 0.03138583526015282), ('al', 0.017831813544034958), ('...', 0.01751682721078396)], [('The', 0.08374720811843872), ('\"', 0.03083709627389908), ('I', 0.030613698065280914), ('A', 0.0269969180226326), ('This', 0.020437665283679962)], [('The', 0.010293558239936829), ('I', 0.0036044579464942217), ('\"', 0.0029619617853313684), ('This', 0.0026739093009382486)]]\n",
            "110\n",
            "110\n"
          ]
        }
      ]
    },
    {
      "cell_type": "code",
      "source": [
        "batch_sentences =  [\"I enjoy walking in the park, but I'm not sure\", \"I enjoy walking in the park, but I'm not a\", \"I enjoy walking in the park, but I'm not going\", \"I enjoy walking in the park, but I'm also very\", \"I enjoy walking in the park, but I'm also not\", \"I enjoy walking in the park, but I'm afraid I\", \"I enjoy walking in the park, but I'm afraid that\", \"I enjoy walking in the park, but I'm afraid to\", \"I enjoy walking in the park, but I don't like\", \"I enjoy walking in the park, but I don't want\", \"I enjoy walking in the park, but I don't think\", \"I enjoy walking in the park, but I don' t\", 'I enjoy walking in the park, but I don � c', 'I enjoy walking in the park, but I don � ve', 'I enjoy walking in the park, but I also enjoy the', 'I enjoy walking in the park, but I also enjoy being', 'I enjoy walking in the park, but I also enjoy walking', \"I enjoy walking in the park, but it's a little\", \"I enjoy walking in the park, but it's a bit\", \"I enjoy walking in the park, but it's a lot\", \"I enjoy walking in the park, but it's hard for\", 'I enjoy walking in the park, but it is very difficult', 'I enjoy walking in the park, but it is very hard', 'I enjoy walking in the park, but it is very quiet', 'I enjoy walking in the park, but it can get really', 'I enjoy walking in the park, but it can get pretty', \"I enjoy walking in the park, but when I'm in\", \"I enjoy walking in the park, but when I'm out\", 'I enjoy walking in the park, but when I walk down', 'I enjoy walking in the park, but when I walk into', 'I enjoy walking in the park, but when I go back', \"I enjoy walking in the park, but when you're on\", \"I enjoy walking in the park, but when it's raining\", \"I enjoy walking in the park, but when it's time\", \"I enjoy walking in the park, but when it's dark\", 'I enjoy walking in the park, but when it rains,', 'I enjoy walking in the park, but when it rains it', 'I enjoy walking in the park, and the people there are', 'I enjoy walking in the park, and the people there have', 'I enjoy walking in the park, and the people there seem', 'I enjoy walking in the park, and the people who live', 'I enjoy walking in the park, and the people who come', 'I enjoy walking in the park, and the people are always', 'I enjoy walking in the park, and the people are so', 'I enjoy walking in the park, and the people are nice', 'I enjoy walking in the park, and the view is amazing', 'I enjoy walking in the park, and the view is beautiful', 'I enjoy walking in the park, and the view is great', 'I enjoy walking in the park, and the view from my', 'I enjoy walking in the park, and the view from here', 'I enjoy walking in the park, and the view of this', 'I enjoy walking in the park, and the view of Lake', 'I enjoy walking in the park, and the smell and smell', 'I enjoy walking in the park, and the smell and taste', 'I enjoy walking in the park, I like to play with', 'I enjoy walking in the park, I like to watch movies', 'I enjoy walking in the park, I like the view.', 'I enjoy walking in the park, I like the view of', 'I enjoy walking in the park, I like the smell and', 'I enjoy walking in the park, I like the way they', 'I enjoy walking in the park, I like being in front', 'I enjoy walking in the park, I like being around people', 'I enjoy walking in the park, I like being around other', 'I enjoy walking in the park, I enjoy playing with friends', 'I enjoy walking in the park, I enjoy playing the game', 'I enjoy walking in the park, I enjoy playing the guitar', 'I enjoy walking in the park, I enjoy playing the piano', 'I enjoy walking in the park and seeing people. I love', \"I enjoy walking in the park and seeing people. I'm\", \"I enjoy walking in the park and seeing people. It's\", 'I enjoy walking in the park and seeing people. It is', 'I enjoy walking in the park and seeing people. It makes', \"I enjoy walking in the park and seeing people. We're\", 'I enjoy walking in the park and seeing people, but when', 'I enjoy walking in the park and seeing people and seeing what', 'I enjoy walking in the park and seeing people and animals ,\"', 'I enjoy walking in the park and seeing all of these different', 'I enjoy walking in the park and seeing all of our neighbors', 'I enjoy walking in the park and seeing all of our favorite', 'I enjoy walking in the park and seeing all these beautiful trees', 'I enjoy walking in the park and seeing all these beautiful birds', 'I enjoy walking in the park and seeing all these different things', 'I enjoy walking in the park and seeing all these different species', 'I enjoy walking in the park and seeing all these different kinds', \"I enjoy walking in the park and it's a great place\", \"I enjoy walking in the park and it's a great way\", \"I enjoy walking in the park and it's a great experience\", \"I enjoy walking in the park and it's a nice feeling\", \"I enjoy walking in the park and it's nice to see\", \"I enjoy walking in the park and it's nice to be\", \"I enjoy walking in the park and it's nice. It\", \"I enjoy walking in the park and it's nice. The\", \"I enjoy walking in the park and it's nice that we\", \"I enjoy walking in the park and it's nice that you\", \"I enjoy walking in the park and it's great for me\", 'I enjoy walking in the park and it makes me want more', 'I enjoy walking in the park and it makes my day .\"', 'I enjoy walking in the park and it makes my life easier', 'I enjoy walking in the park and it makes my body feel', 'I enjoy walking in the park and it makes my body look', 'I enjoy walking in the park and it makes my body stronger', 'I enjoy walking in the park. The park itself has been', 'I enjoy walking in the park. The park itself has some', 'I enjoy walking in the park. The park itself, though', 'I enjoy walking in the park. The trees are so tall', 'I enjoy walking in the streets of the United Arab Emir ate', 'I enjoy walking in the streets of the United Arab Emir ates', 'I enjoy walking in the streets of the United Arab Emir ati', 'I enjoy walking in the streets of London, but it was', 'I enjoy walking in the streets of London and seeing how many']\n",
        "batch_predictions = model.get_batch_predictions(batch_sentences,6)\n",
        "print(batch_predictions)\n",
        "\n",
        "print(len(batch_predictions))"
      ],
      "metadata": {
        "colab": {
          "base_uri": "https://localhost:8080/"
        },
        "id": "yck9zzT_pS7l",
        "outputId": "f51cd02e-c380-44aa-90a0-7e4ed79441d9"
      },
      "execution_count": null,
      "outputs": [
        {
          "output_type": "stream",
          "name": "stdout",
          "text": [
            "[[('The', 0.06441471725702286), ('\"', 0.029232027009129524), ('I', 0.024992607533931732), ('A', 0.017693907022476196), ('This', 0.016091689467430115)], [('The', 0.03021872788667679), ('\"', 0.010039023123681545), ('I', 0.00871141254901886), ('A', 0.007432189770042896), ('This', 0.006580688059329987)], [('The', 0.06791429221630096), ('\"', 0.032660551369190216), ('I', 0.02276371791958809), ('A', 0.018162254244089127), ('This', 0.01436851266771555)], [('The', 0.06292367726564407), ('\"', 0.02983095310628414), ('I', 0.022361278533935547), ('A', 0.019140776246786118), ('This', 0.013515595346689224)], [('The', 0.054077185690402985), ('\"', 0.022345803678035736), ('I', 0.016759106889367104), ('A', 0.014416421763598919), ('This', 0.010597935877740383)], [('The', 0.05732255056500435), ('\"', 0.01784597709774971), ('I', 0.017432045191526413), ('A', 0.015546905808150768), ('This', 0.012565701268613338)], [('The', 0.08464467525482178), ('I', 0.03375137224793434), ('\"', 0.02832474187016487), ('A', 0.023028027266263962), ('This', 0.021009370684623718)], [('The', 0.04467611759901047), ('\"', 0.017024029046297073), ('I', 0.014969419687986374), ('A', 0.011527033522725105), ('This', 0.010944594629108906)], [('The', 0.07408429682254791), ('\"', 0.029832446947693825), ('I', 0.027341976761817932), ('A', 0.0185566283762455), ('This', 0.01567293144762516)], [('The', 0.0699416771531105), ('\"', 0.027776548638939857), ('I', 0.02524726465344429), ('A', 0.01728690043091774), ('This', 0.015287443995475769)], [('The', 0.07933428138494492), ('\"', 0.03185209259390831), ('I', 0.029740426689386368), ('A', 0.02075883559882641), ('This', 0.018702035769820213)], [('The', 0.02787434682250023), ('\"', 0.010341055691242218), ('I', 0.008588159456849098), ('A', 0.007503251079469919), ('This', 0.005969166290014982)], [('The', 0.028194107115268707), ('A', 0.01028786227107048), ('I', 0.008050122298300266), ('\"', 0.007395103108137846), ('In', 0.006082674488425255)], [('The', 0.024029091000556946), ('\"', 0.010200206190347672), ('I', 0.008348445408046246), ('A', 0.007746362127363682), ('In', 0.005192097742110491)], [('The', 0.07697159051895142), ('A', 0.028412997722625732), ('I', 0.024581147357821465), ('\"', 0.023449409753084183), ('This', 0.023113884031772614)], [('The', 0.08543866872787476), ('\"', 0.031856026500463486), ('I', 0.0278855562210083), ('A', 0.026818709447979927), ('This', 0.01977367140352726), ('In', 0.017254402860999107)], [('The', 0.0893644317984581), ('\"', 0.03188405930995941), ('I', 0.030612105503678322), ('A', 0.02664683200418949), ('This', 0.02209538221359253)], [('The', 0.02106037177145481), ('I', 0.008377300575375557), ('\"', 0.0068173520267009735), ('A', 0.0048197535797953606), ('This', 0.004136478994041681)], [('The', 0.0485575869679451), ('I', 0.01914951205253601), ('\"', 0.01771661825478077), ('A', 0.012176163494586945), ('This', 0.009963023476302624)], [('The', 0.052750758826732635), ('I', 0.02260885201394558), ('\"', 0.022607991471886635), ('A', 0.01360593643039465), ('This', 0.012009486556053162)], [('The', 0.07995567470788956), ('I', 0.03899494186043739), ('\"', 0.03222673386335373), ('A', 0.022642875090241432), ('This', 0.02001858502626419)], [('The', 0.05680134519934654), ('\"', 0.03275517746806145), ('I', 0.02709270641207695), ('A', 0.01413174718618393), ('This', 0.012694221921265125)], [('The', 0.056942932307720184), ('\"', 0.03150811046361923), ('I', 0.02767987549304962), ('A', 0.014183195307850838), ('This', 0.01277167722582817)], [('The', 0.02276015654206276), ('\"', 0.012172507122159004), ('I', 0.010572833940386772), ('A', 0.005442220717668533), ('This', 0.004939382895827293)], [('The', 0.03920004516839981), ('\"', 0.01741098240017891), ('I', 0.013984354212880135), ('A', 0.010763238184154034), ('This', 0.007854392752051353)], [('The', 0.018896758556365967), ('\"', 0.008305416442453861), ('I', 0.00734215322881937), ('A', 0.0047521828673779964), ('This', 0.003618553513661027)], [('The', 0.061737995594739914), ('\"', 0.022265542298555374), ('I', 0.02139851823449135), ('A', 0.016317058354616165), ('This', 0.011807020753622055)], [('The', 0.07735233008861542), ('I', 0.03315024450421333), ('\"', 0.03025834821164608), ('A', 0.02583477459847927), ('This', 0.018501918762922287)], [('The', 0.07405681908130646), ('I', 0.033070266246795654), ('\"', 0.025561155751347542), ('A', 0.02276858314871788), ('This', 0.018610559403896332)], [('The', 0.07472292333841324), ('I', 0.028291601687669754), ('\"', 0.024168092757463455), ('A', 0.020571686327457428), ('This', 0.016787175089120865)], [('The', 0.07942203432321548), ('I', 0.03534780070185661), ('\"', 0.03236675262451172), ('A', 0.02741215191781521), ('This', 0.019706308841705322)], [('The', 0.06962449848651886), ('\"', 0.030338585376739502), ('I', 0.027734041213989258), ('A', 0.019261589273810387), ('This', 0.015266959555447102)], [('The', 0.054720524698495865), ('I', 0.024266157299280167), ('\"', 0.021602535620331764), ('A', 0.014760789461433887), ('This', 0.01159471832215786)], [('The', 0.07745574414730072), ('I', 0.03708238527178764), ('\"', 0.03376235067844391), ('A', 0.02647511102259159), ('This', 0.018291404470801353)], [('The', 0.04582924768328667), ('I', 0.02415013127028942), ('\"', 0.018394751474261284), ('A', 0.01372688077390194), ('This', 0.009877149946987629)], [('The', 0.04873710125684738), ('I', 0.02420903742313385), ('\"', 0.023907650262117386), ('A', 0.014218192547559738), ('In', 0.010340138338506222)], [('The', 0.013954143971204758), ('I', 0.00619523273780942), ('\"', 0.005257986485958099), ('A', 0.004236788954585791), ('In', 0.002865355694666505)], [('The', 0.06342246383428574), ('I', 0.025298641994595528), ('\"', 0.024879075586795807), ('A', 0.020864306017756462), ('This', 0.014810028485953808)], [('The', 0.030182918533682823), ('I', 0.01095440424978733), ('A', 0.010627016425132751), ('\"', 0.00955985113978386), ('This', 0.006862416863441467)], [('The', 0.05048036947846413), ('I', 0.023028520867228508), ('\"', 0.018935663625597954), ('A', 0.016384700313210487), ('This', 0.011289933696389198)], [('The', 0.062696173787117), ('I', 0.02673421986401081), ('\"', 0.022766372188925743), ('A', 0.01969979889690876), ('This', 0.01500683929771185)], [('The', 0.052822768688201904), ('I', 0.02474186196923256), ('\"', 0.022142281755805016), ('A', 0.016243822872638702), ('This', 0.013610485009849072)], [('The', 0.020831210538744926), ('\"', 0.00967035535722971), ('I', 0.008743839338421822), ('A', 0.0059217060916125774), ('This', 0.004176178947091103)], [('The', 0.06901099532842636), ('I', 0.03686010092496872), ('\"', 0.030859388411045074), ('A', 0.02210424095392227), ('This', 0.016941575333476067)], [('The', 0.009470232762396336), ('\"', 0.005205556750297546), ('I', 0.004288905765861273), ('A', 0.0023396785836666822), ('This', 0.001986886840313673)], [('The', 0.03099900484085083), ('\"', 0.01572379842400551), ('I', 0.012736142612993717), ('A', 0.008308585733175278), ('This', 0.007005877327173948)], [('The', 0.019519878551363945), ('\"', 0.008222405798733234), ('I', 0.007625164929777384), ('A', 0.00491829589009285), ('This', 0.004240450449287891)], [('The', 0.06567476689815521), ('\"', 0.036302268505096436), ('I', 0.0263347327709198), ('A', 0.019426759332418442), ('This', 0.015430919826030731)], [('The', 0.0038410257548093796), ('I', 0.0016309404745697975), ('A', 0.0013009937247261405), ('\"', 0.0012911451049149036), ('This', 0.000915922224521637)], [('The', 0.07057034969329834), ('I', 0.03172106295824051), ('A', 0.026048677042126656), ('\"', 0.025073330849409103), ('This', 0.02168525569140911)], [('The', 0.07306332141160965), ('I', 0.03100595436990261), ('A', 0.025385603308677673), ('This', 0.020894218236207962), ('\"', 0.020344287157058716)], [('The', 0.01891176588833332), ('I', 0.006976012140512466), ('A', 0.005849570035934448), ('\"', 0.005013030953705311), ('This', 0.004702628590166569)], [('The', 0.011623809114098549), ('\"', 0.004611583426594734), ('I', 0.00439708074554801), ('A', 0.0029564332216978073), ('This', 0.0026830260176211596)], [('The', 0.03478526324033737), ('\"', 0.01630477048456669), ('I', 0.013442875817418098), ('A', 0.009633833542466164), ('This', 0.008864614181220531)], [('The', 0.015918321907520294), ('\"', 0.006792742758989334), ('I', 0.005090131424367428), ('A', 0.0038464851677417755), ('This', 0.0033941229339689016)], [('The', 0.013381843455135822), ('\"', 0.006636987905949354), ('I', 0.0049564833752810955), ('A', 0.0031621637754142284), ('This', 0.0029112999327480793)], [('The', 0.07091712206602097), ('\"', 0.03435927629470825), ('I', 0.028899215161800385), ('A', 0.026139557361602783), ('This', 0.020577996969223022), ('In', 0.017388271167874336)], [('The', 0.083332858979702), ('I', 0.027571192011237144), ('\"', 0.026351602748036385), ('A', 0.022779326885938644), ('This', 0.019887441769242287)], [('The', 0.01158573105931282), ('\"', 0.005436381790786982), ('I', 0.003814743598923087), ('A', 0.0028979440685361624), ('This', 0.0022379059810191393)], [('The', 0.027791369706392288), ('\"', 0.011273536831140518), ('I', 0.010351652279496193), ('A', 0.0076667387038469315), ('This', 0.006363421678543091)], [('The', 0.05669223517179489), ('\"', 0.023628152906894684), ('I', 0.021678606048226357), ('A', 0.016506565734744072), ('This', 0.013748152181506157)], [('The', 0.038481585681438446), ('\"', 0.017605388537049294), ('I', 0.013229559175670147), ('A', 0.009802314452826977), ('This', 0.008549274876713753)], [('The', 0.06194057688117027), ('I', 0.02080058865249157), ('\"', 0.020207591354846954), ('A', 0.01790880784392357), ('This', 0.01512889750301838)], [('The', 0.00891463179141283), ('\"', 0.004626509267836809), ('I', 0.0031315991654992104), ('A', 0.0021375538781285286), ('In', 0.001877854927442968)], [('The', 0.042475659400224686), ('\"', 0.022592414170503616), ('I', 0.013499915599822998), ('A', 0.010661971755325794), ('In', 0.009198629297316074)], [('The', 0.009662743657827377), ('\"', 0.00455732736736536), ('I', 0.0035006816033273935), ('A', 0.002235207473859191), ('This', 0.002072551054880023)], [('The', 0.005403618328273296), ('\"', 0.002260068664327264), ('I', 0.0020062855910509825), ('A', 0.0011962360003963113), ('This', 0.0010931312572211027)], [('The', 0.08432633429765701), ('\"', 0.03832567483186722), ('I', 0.03397306427359581), ('A', 0.0247779730707407), ('This', 0.021138660609722137)], [('The', 0.08293557167053223), ('\"', 0.03620230406522751), ('I', 0.02825252152979374), ('A', 0.027438700199127197), ('This', 0.0194189865142107)], [('The', 0.08250541985034943), ('\"', 0.033711425960063934), ('I', 0.031047184020280838), ('A', 0.027371671050786972), ('This', 0.019594961777329445)], [('The', 0.08385183662176132), ('\"', 0.032659709453582764), ('I', 0.030587000772356987), ('A', 0.02698119916021824), ('This', 0.01930982805788517)], [('The', 0.08085813373327255), ('I', 0.03716529160737991), ('\"', 0.02968030422925949), ('A', 0.02363397181034088), ('This', 0.019851604476571083)], [('The', 0.08033144474029541), ('\"', 0.034184880554676056), ('I', 0.02881665900349617), ('A', 0.027900245040655136), ('This', 0.02024105004966259)], [('The', 0.07541389018297195), ('I', 0.04249453544616699), ('\"', 0.026250524446368217), ('A', 0.02422078512609005), ('It', 0.019614290446043015)], [('The', 0.037000622600317), ('I', 0.014221325516700745), ('A', 0.010114018805325031), ('This', 0.008797341026365757), ('\"', 0.008707595057785511)], [('The', 0.05861818790435791), ('A', 0.018730495125055313), ('I', 0.018227217718958855), ('\"', 0.0179836917668581), ('In', 0.012894106097519398)], [('The', 0.0011911536566913128), ('I', 0.0005144081660546362), ('\"', 0.0005124338786117733), ('A', 0.00028374086832627654), ('This', 0.00026740130851976573)], [('The', 0.0036812180187553167), ('\"', 0.0017225375631824136), ('I', 0.0013369565131142735), ('A', 0.0009739979286678135), ('This', 0.0007744562462903559)], [('The', 0.0020792020950466394), ('I', 0.0008572571678087115), ('\"', 0.000666563690174371), ('A', 0.0005103396251797676), ('This', 0.00046092679258435965)], [('The', 0.0005650345119647682), ('I', 0.00031181800295598805), ('\"', 0.00022309462656266987), ('A', 0.00012064287147950381), ('This', 0.0001122218236560002)], [('The', 0.0004594721249304712), ('I', 0.0002467985905241221), ('\"', 0.0001978578802663833), ('A', 0.00010472297435626388), ('This', 8.861182141117752e-05)], [('The', 0.0016311173094436526), ('\"', 0.0010396052384749055), ('I', 0.0007836942095309496), ('A', 0.0003385781601537019), ('This', 0.0003307097649667412)], [('The', 0.002136693801730871), ('\"', 0.0012968408409506083), ('I', 0.0008565449970774353), ('A', 0.0004917072947137058), ('This', 0.0004367999790702015)], [('The', 0.0010265844175592065), ('\"', 0.0008416795171797276), ('I', 0.0005627106875181198), ('A', 0.0002489784674253315), ('This', 0.00022102407820057124)], [('The', 0.008130820468068123), ('\"', 0.0037929415702819824), ('I', 0.0031526745297014713), ('A', 0.0018310985760763288), ('This', 0.00160387740470469)], [('The', 0.016681384295225143), ('\"', 0.008217159658670425), ('I', 0.006896194536238909), ('A', 0.00380690093152225), ('This', 0.003321350086480379)], [('The', 0.017333168536424637), ('\"', 0.009043034166097641), ('I', 0.006620922591537237), ('A', 0.003943291492760181), ('This', 0.0035118949599564075)], [('The', 0.0061910138465464115), ('\"', 0.0030403209384530783), ('I', 0.0023994464427232742), ('A', 0.0012182368664070964), ('This', 0.0011830731527879834)], [('The', 0.03549862280488014), ('\"', 0.013404853641986847), ('I', 0.012679846957325935), ('A', 0.00879749283194542), ('This', 0.00858544185757637)], [('The', 0.05154535546898842), ('\"', 0.024935025721788406), ('I', 0.015852084383368492), ('A', 0.013257347978651524), ('This', 0.010988464578986168)], [('The', 0.0746929869055748), ('\"', 0.03596875071525574), ('I', 0.02948163077235222), ('A', 0.02488138899207115), ('This', 0.020291801542043686)], [('The', 0.06478457152843475), ('A', 0.025133231654763222), ('I', 0.022956112399697304), ('This', 0.021306227892637253), ('\"', 0.02116333693265915)], [('The', 0.01077281590551138), ('\"', 0.0037568833213299513), ('I', 0.003539836034178734), ('A', 0.002891158452257514), ('This', 0.0023305672220885754)], [('The', 0.011427425779402256), ('\"', 0.004789972677826881), ('I', 0.004045179579406977), ('A', 0.0028087131213396788), ('This', 0.002487337915226817)], [('The', 0.02946305088698864), ('\"', 0.01768416352570057), ('I', 0.011421150527894497), ('A', 0.0074290502816438675), ('This', 0.005835979711264372)], [('The', 0.04353579878807068), ('\"', 0.024292221292853355), ('I', 0.016684068366885185), ('A', 0.0113136637955904), ('This', 0.010299166664481163)], [('The', 0.08250395953655243), ('\"', 0.035839300602674484), ('A', 0.03166356310248375), ('I', 0.02574150636792183), ('In', 0.019736096262931824), ('This', 0.018516458570957184)], [('The', 0.027047131210565567), ('\"', 0.017895620316267014), ('I', 0.01246877945959568), ('A', 0.006510753650218248), ('This', 0.0058671412989497185)], [('The', 0.005178762599825859), ('\"', 0.0024381503462791443), ('I', 0.0019659362733364105), ('A', 0.0012035605031996965), ('This', 0.000991889275610447)], [('The', 0.0029157844837754965), ('\"', 0.0012360158143565059), ('I', 0.0012114434503018856), ('A', 0.0006958008161745965), ('This', 0.0005528901237994432)], [('The', 0.003309059888124466), ('\"', 0.0019509140402078629), ('I', 0.0015095522394403815), ('A', 0.0007334217079915106), ('This', 0.0006427152547985315)], [('The', 0.08123283833265305), ('I', 0.02881634049117565), ('\"', 0.027181997895240784), ('A', 0.025999851524829865), ('In', 0.01715838722884655)], [('The', 0.02083936706185341), ('I', 0.007062163669615984), ('\"', 0.006390217691659927), ('A', 0.005764893721789122), ('This', 0.004377108998596668)], [('The', 0.0794999748468399), ('I', 0.03566407412290573), ('\"', 0.028678979724645615), ('A', 0.023988889530301094), ('It', 0.019044797867536545)], [('The', 0.07011914253234863), ('I', 0.03741971030831337), ('\"', 0.02811901830136776), ('A', 0.020251670852303505), ('This', 0.017777929082512856)], [('The', 0.009507216513156891), ('\"', 0.0035245909821242094), ('I', 0.003043514909222722), ('A', 0.0026155593805015087), ('This', 0.0021803854033350945)], [(',', 0.1289934664964676), ('.', 0.10956139862537384), ('and', 0.08316951245069504), ('of', 0.035598695278167725), (',\"', 0.030673718079924583), ('with', 0.022461067885160446)], [(',', 0.043262138962745667), ('.', 0.04066117852926254), ('-', 0.03138602152466774), ('al', 0.01783144474029541), ('...', 0.01751706376671791), ('ks', 0.016267890110611916)], [('The', 0.08374708145856857), ('\"', 0.030836813151836395), ('I', 0.030614351853728294), ('A', 0.0269966721534729), ('This', 0.020437948405742645)], [('The', 0.010293415747582912), ('I', 0.003604407887905836), ('\"', 0.0029619205743074417), ('This', 0.002673872048035264), ('A', 0.0024208822287619114)]]\n",
            "110\n"
          ]
        }
      ]
    },
    {
      "cell_type": "code",
      "source": [],
      "metadata": {
        "id": "UNESdjWx-IEr"
      },
      "execution_count": null,
      "outputs": []
    }
  ]
}