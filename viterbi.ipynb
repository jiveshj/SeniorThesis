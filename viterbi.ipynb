{
 "cells": [
  {
   "cell_type": "code",
   "execution_count": 36,
   "metadata": {},
   "outputs": [
    {
     "name": "stdout",
     "output_type": "stream",
     "text": [
      "Observation sequence:   O =  [0 2 0 2 2 1]\n",
      "Optimal state sequence: S =  [0 0 0 2 2 1]\n",
      "D_log =\n",
      "[[   0.42    0.10    0.06    0.01    0.00    0.00]\n",
      " [   0.02    0.00    0.00    0.00    0.00    0.00]\n",
      " [   0.00    0.03    0.00    0.00    0.00    0.00]]\n",
      "exp(D_log) =\n",
      "[[ 1.5220  1.1061  1.0581  1.0136  1.0033  1.0000]\n",
      " [ 1.0202  1.0000  1.0010  1.0000  1.0000  1.0006]\n",
      " [ 1.0000  1.0342  1.0000  1.0045  1.0022  1.0003]]\n",
      "E =\n",
      "[[0 0 0 0 0]\n",
      " [0 0 0 0 2]\n",
      " [0 2 0 2 2]]\n"
     ]
    }
   ],
   "source": [
    "import numpy as np\n",
    "\n",
    "def viterbi_log(A, C, B, O):\n",
    "    \"\"\"Viterbi algorithm (log variant) for solving the uncovering problem\n",
    "\n",
    "    Args:\n",
    "        A (np.ndarray): State transition probability matrix of dimension I x I\n",
    "        C (np.ndarray): Initial state distribution  of dimension I\n",
    "        B (np.ndarray): Output probability matrix of dimension I x K\n",
    "        O (np.ndarray): Observation sequence of length N\n",
    "\n",
    "    Returns:\n",
    "        S_opt (np.ndarray): Optimal state sequence of length N\n",
    "        D_log (np.ndarray): Accumulated log probability matrix\n",
    "        E (np.ndarray): Backtracking matrix\n",
    "    \"\"\"\n",
    "    I = A.shape[0]    # Number of states\n",
    "    N = len(O)  # Length of observation sequence\n",
    "\n",
    "    # Initialize D and E matrices\n",
    "    D = np.zeros((I, N))\n",
    "    E = np.zeros((I, N-1)).astype(np.int32)\n",
    "    D[:, 0] = np.multiply(C, B[:, O[0]])\n",
    "\n",
    "    # Compute D and E in a nested loop\n",
    "    for n in range(1, N):\n",
    "        for i in range(I):\n",
    "            temp_product = np.multiply(A[:, i], D[:, n-1])\n",
    "            D[i, n] = np.max(temp_product) * B[i, O[n]]\n",
    "            E[i, n-1] = np.argmax(temp_product)\n",
    "\n",
    "    # Backtracking\n",
    "    S_opt = np.zeros(N).astype(np.int32)\n",
    "    S_opt[-1] = np.argmax(D[:, -1])\n",
    "    for n in range(N-2, -1, -1):\n",
    "        S_opt[n] = E[int(S_opt[n+1]), n]\n",
    "\n",
    "    return S_opt, D, E\n",
    "\n",
    "\n",
    "A = np.array([[0.8, 0.1, 0.1], \n",
    "              [0.2, 0.7, 0.1], \n",
    "              [0.1, 0.3, 0.6]])\n",
    "\n",
    "C = np.array([0.6, 0.2, 0.2])\n",
    "\n",
    "B = np.array([[0.7, 0.0, 0.3], \n",
    "              [0.1, 0.9, 0.0], \n",
    "              [0.0, 0.2, 0.8]])\n",
    "\n",
    "\n",
    "O = np.array([0, 2, 0, 2, 2, 1]).astype(np.int32)\n",
    "#O = np.array([1]).astype(np.int32)\n",
    "#O = np.array([1, 2, 0, 2, 2, 1]).astype(np.int32)\n",
    "\n",
    "# Apply Viterbi algorithm (log variant)\n",
    "S_opt, D_log, E = viterbi_log(A, C, B, O)\n",
    "\n",
    "print('Observation sequence:   O = ', O)\n",
    "print('Optimal state sequence: S = ', S_opt)\n",
    "np.set_printoptions(formatter={'float': \"{: 7.2f}\".format})\n",
    "print('D_log =', D_log, sep='\\n')\n",
    "np.set_printoptions(formatter={'float': \"{: 7.4f}\".format})\n",
    "print('exp(D_log) =', np.exp(D_log), sep='\\n')\n",
    "np.set_printoptions(formatter={'float': \"{: 7.0f}\".format})\n",
    "print('E =', E, sep='\\n')"
   ]
  },
  {
   "cell_type": "code",
   "execution_count": 78,
   "metadata": {},
   "outputs": [],
   "source": [
    "def VITERBI(state_transition_probmat, observation_probmat, observation_sequence, initial_state_prob):\n",
    "    state_transition_probmat = np.array(state_transition_probmat)\n",
    "    observation_probmat = np.array(observation_probmat)\n",
    "    initial_state_prob = np.array(initial_state_prob)\n",
    "    observation_sequence = observation_sequence.astype(int)\n",
    "\n",
    "    viterbi_mat = np.empty((state_transition_probmat.shape[1],len(observation_sequence)))\n",
    "    backpointer = np.empty((state_transition_probmat.shape[1],len(observation_sequence)-1)).astype(int)\n",
    "    for i in range(state_transition_probmat.shape[1]):\n",
    "        viterbi_mat[i,0] = float(initial_state_prob[i]*observation_probmat[i,observation_sequence[0]])\n",
    "    #     print(viterbi_mat[i,0])\n",
    "    # print(viterbi_mat)\n",
    "    # viterbi_mat[:,0] = np.multiply(initial_state_prob, observation_probmat[:,observation_sequence[0]])\n",
    "    for time_step in range(1,len(observation_sequence)):\n",
    "        for state in range(state_transition_probmat.shape[1]):\n",
    "            state_vec = viterbi_mat[:,time_step-1]*state_transition_probmat[:,state,time_step-1]\n",
    "            state_vec = state_vec*observation_probmat[state,observation_sequence[time_step]]\n",
    "        \n",
    "            viterbi_mat[state,time_step] = np.max(state_vec)\n",
    "            backpointer[state,time_step-1] = np.argmax(state_vec)\n",
    "    best_path_prob = np.max(viterbi_mat[:,-1])\n",
    "    best_backpointer = np.argmax(viterbi_mat[:,-1])\n",
    "    best_path = [best_backpointer]\n",
    "    j = 0\n",
    "    for i in reversed(range(len(observation_sequence)-1)):\n",
    "        best_path.append(backpointer[best_path[j],i])\n",
    "        j += 1\n",
    "    best_path = best_path[::-1]\n",
    "    return best_path, viterbi_mat"
   ]
  },
  {
   "cell_type": "code",
   "execution_count": 44,
   "metadata": {},
   "outputs": [
    {
     "name": "stdout",
     "output_type": "stream",
     "text": [
      "[np.int64(0), np.int64(0), np.int64(0), np.int64(2), np.int64(2), np.int64(1)]\n",
      "viterbi_path:  [[   0.42    0.10    0.06    0.01    0.00    0.00]\n",
      " [   0.02    0.00    0.00    0.00    0.00    0.00]\n",
      " [   0.00    0.03    0.00    0.00    0.00    0.00]]\n"
     ]
    }
   ],
   "source": [
    "A = np.array([[0.8, 0.1, 0.1], \n",
    "              [0.2, 0.7, 0.1], \n",
    "              [0.1, 0.3, 0.6]])\n",
    "\n",
    "C = np.array([0.6, 0.2, 0.2])\n",
    "\n",
    "B = np.array([[0.7, 0.0, 0.3], \n",
    "              [0.1, 0.9, 0.0], \n",
    "              [0.0, 0.2, 0.8]])\n",
    "\n",
    "\n",
    "O = np.array([0, 2, 0, 2, 2, 1]).astype(np.int32)\n",
    "\n",
    "best_path, viterbi_path =VITERBI(A,B,O,C)\n",
    "print(best_path)\n",
    "np.set_printoptions(formatter={'float': \"{: 7.2f}\".format})\n",
    "\n",
    "print(\"viterbi_path: \", viterbi_path)"
   ]
  },
  {
   "cell_type": "code",
   "execution_count": 79,
   "metadata": {},
   "outputs": [
    {
     "name": "stdout",
     "output_type": "stream",
     "text": [
      "(3, 3, 2)\n",
      "(3, 3)\n",
      "(3, 1)\n",
      "(3,)\n",
      "[np.int64(1), np.int64(0), np.int64(2)]\n",
      "viterbi_path:  [[   1.00    4.00    2.00]\n",
      " [   1.00    2.00    6.00]\n",
      " [   1.00    2.00    8.00]]\n"
     ]
    }
   ],
   "source": [
    "A = np.array([[3.0, 1.0, 2.0], \n",
    "              [4.0, 2.0, 0.0], \n",
    "              [3.0, 2.0, 1.0]])\n",
    "B = np.array([[0.0,1.0,2.0],[1.0,2.0,1.0],[1.0,3.0,1.0]])\n",
    "\n",
    "\n",
    "new_arr = np.stack((A,B),axis = 2)\n",
    "print(new_arr.shape)\n",
    "C = np.array([1.0,1.0,1.0])\n",
    "\n",
    "B = np.array([[1.0], \n",
    "              [1.0], \n",
    "              [1.0]])\n",
    "\n",
    "\n",
    "O = np.array([0,0,0]).astype(np.int32)\n",
    "\n",
    "print(A.shape)\n",
    "print(B.shape)\n",
    "print(O.shape)\n",
    "best_path, viterbi_path =VITERBI(new_arr,B,O,C)\n",
    "print(best_path)\n",
    "np.set_printoptions(formatter={'float': \"{: 7.2f}\".format})\n",
    "\n",
    "print(\"viterbi_path: \", viterbi_path)"
   ]
  },
  {
   "cell_type": "code",
   "execution_count": null,
   "metadata": {},
   "outputs": [],
   "source": [
    "#viterbi and Transformer \n",
    "\n"
   ]
  }
 ],
 "metadata": {
  "kernelspec": {
   "display_name": "Python 3",
   "language": "python",
   "name": "python3"
  },
  "language_info": {
   "codemirror_mode": {
    "name": "ipython",
    "version": 3
   },
   "file_extension": ".py",
   "mimetype": "text/x-python",
   "name": "python",
   "nbconvert_exporter": "python",
   "pygments_lexer": "ipython3",
   "version": "3.12.6"
  }
 },
 "nbformat": 4,
 "nbformat_minor": 2
}
